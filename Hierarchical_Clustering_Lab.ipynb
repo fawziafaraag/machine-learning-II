{
  "cells": [
    {
      "cell_type": "markdown",
      "metadata": {
        "id": "view-in-github",
        "colab_type": "text"
      },
      "source": [
        "<a href=\"https://colab.research.google.com/github/fawziafaraag/machine-learning-II/blob/main/Hierarchical_Clustering_Lab.ipynb\" target=\"_parent\"><img src=\"https://colab.research.google.com/assets/colab-badge.svg\" alt=\"Open In Colab\"/></a>"
      ]
    },
    {
      "cell_type": "markdown",
      "metadata": {
        "id": "r0PlUQ1FqBDi"
      },
      "source": [
        "# <a name=\"0\">Hierarchical Clustering</a>"
      ]
    },
    {
      "cell_type": "markdown",
      "metadata": {
        "id": "4OA0dFuTqBDn"
      },
      "source": [
        "1. <a href=\"#1\">Read the dataset</a>\n",
        "2. <a href=\"#2\">Data investigation</a>\n",
        "3. <a href=\"#3\">Data preprocessing </a>\n",
        "4. <a href=\"#4\">Features transformation </a>\n",
        "4. <a href=\"#5\">Training datasets</a>\n",
        "5. <a href=\"#6\">Improvement ideas</a>\n",
        "\n"
      ]
    },
    {
      "cell_type": "code",
      "execution_count": 1,
      "metadata": {
        "id": "fImTT3FoqBDo"
      },
      "outputs": [],
      "source": [
        "import pandas as pd\n",
        "import numpy as np\n",
        "import matplotlib.pyplot as plt\n",
        "import warnings\n",
        "warnings.filterwarnings(\"ignore\")"
      ]
    },
    {
      "cell_type": "markdown",
      "metadata": {
        "id": "yeOA6jIEqBDq"
      },
      "source": [
        "## 1. <a name=\"1\">Read the dataset</a>\n",
        "(<a href=\"#0\">Go to top</a>)\n",
        "\n",
        "First dowmload the data set from this link https://www.kaggle.com/fernandol/countries-of-the-world\n",
        "then import it in python."
      ]
    },
    {
      "cell_type": "code",
      "execution_count": 2,
      "metadata": {
        "colab": {
          "base_uri": "https://localhost:8080/"
        },
        "id": "w3cgVkgJqBDr",
        "outputId": "fe090029-9deb-4318-e16a-555505d25541"
      },
      "outputs": [
        {
          "output_type": "stream",
          "name": "stdout",
          "text": [
            "The shape of the dataset is: (227, 20)\n"
          ]
        }
      ],
      "source": [
        "#read the data\n",
        "\n",
        "data_path = 'countries of the world.csv'  #the path where you downloaded the data\n",
        "df = pd.read_csv(data_path)\n",
        "\n",
        "print('The shape of the dataset is:', df.shape)"
      ]
    },
    {
      "cell_type": "markdown",
      "metadata": {
        "id": "sC31IsstqBDr"
      },
      "source": [
        "## 2. <a name=\"2\">Data investigation</a>\n",
        "(<a href=\"#0\">Go to top</a>)\n",
        "\n",
        "in this part you need to check the data quality and assess any issues in the data as:\n",
        "- null values in each column \n",
        "- each column has the proper data type\n",
        "- outliers\n",
        "- duplicate rows\n",
        "- distribution for each column (skewness)\n",
        "<br>\n",
        "\n",
        "**comment each issue you find** "
      ]
    },
    {
      "cell_type": "code",
      "source": [
        "df.head()"
      ],
      "metadata": {
        "colab": {
          "base_uri": "https://localhost:8080/",
          "height": 443
        },
        "id": "qzHplHdn4KB-",
        "outputId": "b026ac4e-ebcc-4ef9-f859-44b1f883aff4"
      },
      "execution_count": 3,
      "outputs": [
        {
          "output_type": "execute_result",
          "data": {
            "text/plain": [
              "           Country                               Region  Population  \\\n",
              "0     Afghanistan         ASIA (EX. NEAR EAST)             31056997   \n",
              "1         Albania   EASTERN EUROPE                          3581655   \n",
              "2         Algeria   NORTHERN AFRICA                        32930091   \n",
              "3  American Samoa   OCEANIA                                   57794   \n",
              "4         Andorra   WESTERN EUROPE                            71201   \n",
              "\n",
              "   Area (sq. mi.) Pop. Density (per sq. mi.) Coastline (coast/area ratio)  \\\n",
              "0          647500                       48,0                         0,00   \n",
              "1           28748                      124,6                         1,26   \n",
              "2         2381740                       13,8                         0,04   \n",
              "3             199                      290,4                        58,29   \n",
              "4             468                      152,1                         0,00   \n",
              "\n",
              "  Net migration Infant mortality (per 1000 births)  GDP ($ per capita)  \\\n",
              "0         23,06                             163,07               700.0   \n",
              "1         -4,93                              21,52              4500.0   \n",
              "2         -0,39                                 31              6000.0   \n",
              "3        -20,71                               9,27              8000.0   \n",
              "4           6,6                               4,05             19000.0   \n",
              "\n",
              "  Literacy (%) Phones (per 1000) Arable (%) Crops (%) Other (%) Climate  \\\n",
              "0         36,0               3,2      12,13      0,22     87,65       1   \n",
              "1         86,5              71,2      21,09      4,42     74,49       3   \n",
              "2         70,0              78,1       3,22      0,25     96,53       1   \n",
              "3         97,0             259,5         10        15        75       2   \n",
              "4        100,0             497,2       2,22         0     97,78       3   \n",
              "\n",
              "  Birthrate Deathrate Agriculture Industry Service  \n",
              "0      46,6     20,34        0,38     0,24    0,38  \n",
              "1     15,11      5,22       0,232    0,188   0,579  \n",
              "2     17,14      4,61       0,101      0,6   0,298  \n",
              "3     22,46      3,27         NaN      NaN     NaN  \n",
              "4      8,71      6,25         NaN      NaN     NaN  "
            ],
            "text/html": [
              "\n",
              "  <div id=\"df-298cf2b2-ced3-4dfd-aa5f-f3161adfbe8e\">\n",
              "    <div class=\"colab-df-container\">\n",
              "      <div>\n",
              "<style scoped>\n",
              "    .dataframe tbody tr th:only-of-type {\n",
              "        vertical-align: middle;\n",
              "    }\n",
              "\n",
              "    .dataframe tbody tr th {\n",
              "        vertical-align: top;\n",
              "    }\n",
              "\n",
              "    .dataframe thead th {\n",
              "        text-align: right;\n",
              "    }\n",
              "</style>\n",
              "<table border=\"1\" class=\"dataframe\">\n",
              "  <thead>\n",
              "    <tr style=\"text-align: right;\">\n",
              "      <th></th>\n",
              "      <th>Country</th>\n",
              "      <th>Region</th>\n",
              "      <th>Population</th>\n",
              "      <th>Area (sq. mi.)</th>\n",
              "      <th>Pop. Density (per sq. mi.)</th>\n",
              "      <th>Coastline (coast/area ratio)</th>\n",
              "      <th>Net migration</th>\n",
              "      <th>Infant mortality (per 1000 births)</th>\n",
              "      <th>GDP ($ per capita)</th>\n",
              "      <th>Literacy (%)</th>\n",
              "      <th>Phones (per 1000)</th>\n",
              "      <th>Arable (%)</th>\n",
              "      <th>Crops (%)</th>\n",
              "      <th>Other (%)</th>\n",
              "      <th>Climate</th>\n",
              "      <th>Birthrate</th>\n",
              "      <th>Deathrate</th>\n",
              "      <th>Agriculture</th>\n",
              "      <th>Industry</th>\n",
              "      <th>Service</th>\n",
              "    </tr>\n",
              "  </thead>\n",
              "  <tbody>\n",
              "    <tr>\n",
              "      <th>0</th>\n",
              "      <td>Afghanistan</td>\n",
              "      <td>ASIA (EX. NEAR EAST)</td>\n",
              "      <td>31056997</td>\n",
              "      <td>647500</td>\n",
              "      <td>48,0</td>\n",
              "      <td>0,00</td>\n",
              "      <td>23,06</td>\n",
              "      <td>163,07</td>\n",
              "      <td>700.0</td>\n",
              "      <td>36,0</td>\n",
              "      <td>3,2</td>\n",
              "      <td>12,13</td>\n",
              "      <td>0,22</td>\n",
              "      <td>87,65</td>\n",
              "      <td>1</td>\n",
              "      <td>46,6</td>\n",
              "      <td>20,34</td>\n",
              "      <td>0,38</td>\n",
              "      <td>0,24</td>\n",
              "      <td>0,38</td>\n",
              "    </tr>\n",
              "    <tr>\n",
              "      <th>1</th>\n",
              "      <td>Albania</td>\n",
              "      <td>EASTERN EUROPE</td>\n",
              "      <td>3581655</td>\n",
              "      <td>28748</td>\n",
              "      <td>124,6</td>\n",
              "      <td>1,26</td>\n",
              "      <td>-4,93</td>\n",
              "      <td>21,52</td>\n",
              "      <td>4500.0</td>\n",
              "      <td>86,5</td>\n",
              "      <td>71,2</td>\n",
              "      <td>21,09</td>\n",
              "      <td>4,42</td>\n",
              "      <td>74,49</td>\n",
              "      <td>3</td>\n",
              "      <td>15,11</td>\n",
              "      <td>5,22</td>\n",
              "      <td>0,232</td>\n",
              "      <td>0,188</td>\n",
              "      <td>0,579</td>\n",
              "    </tr>\n",
              "    <tr>\n",
              "      <th>2</th>\n",
              "      <td>Algeria</td>\n",
              "      <td>NORTHERN AFRICA</td>\n",
              "      <td>32930091</td>\n",
              "      <td>2381740</td>\n",
              "      <td>13,8</td>\n",
              "      <td>0,04</td>\n",
              "      <td>-0,39</td>\n",
              "      <td>31</td>\n",
              "      <td>6000.0</td>\n",
              "      <td>70,0</td>\n",
              "      <td>78,1</td>\n",
              "      <td>3,22</td>\n",
              "      <td>0,25</td>\n",
              "      <td>96,53</td>\n",
              "      <td>1</td>\n",
              "      <td>17,14</td>\n",
              "      <td>4,61</td>\n",
              "      <td>0,101</td>\n",
              "      <td>0,6</td>\n",
              "      <td>0,298</td>\n",
              "    </tr>\n",
              "    <tr>\n",
              "      <th>3</th>\n",
              "      <td>American Samoa</td>\n",
              "      <td>OCEANIA</td>\n",
              "      <td>57794</td>\n",
              "      <td>199</td>\n",
              "      <td>290,4</td>\n",
              "      <td>58,29</td>\n",
              "      <td>-20,71</td>\n",
              "      <td>9,27</td>\n",
              "      <td>8000.0</td>\n",
              "      <td>97,0</td>\n",
              "      <td>259,5</td>\n",
              "      <td>10</td>\n",
              "      <td>15</td>\n",
              "      <td>75</td>\n",
              "      <td>2</td>\n",
              "      <td>22,46</td>\n",
              "      <td>3,27</td>\n",
              "      <td>NaN</td>\n",
              "      <td>NaN</td>\n",
              "      <td>NaN</td>\n",
              "    </tr>\n",
              "    <tr>\n",
              "      <th>4</th>\n",
              "      <td>Andorra</td>\n",
              "      <td>WESTERN EUROPE</td>\n",
              "      <td>71201</td>\n",
              "      <td>468</td>\n",
              "      <td>152,1</td>\n",
              "      <td>0,00</td>\n",
              "      <td>6,6</td>\n",
              "      <td>4,05</td>\n",
              "      <td>19000.0</td>\n",
              "      <td>100,0</td>\n",
              "      <td>497,2</td>\n",
              "      <td>2,22</td>\n",
              "      <td>0</td>\n",
              "      <td>97,78</td>\n",
              "      <td>3</td>\n",
              "      <td>8,71</td>\n",
              "      <td>6,25</td>\n",
              "      <td>NaN</td>\n",
              "      <td>NaN</td>\n",
              "      <td>NaN</td>\n",
              "    </tr>\n",
              "  </tbody>\n",
              "</table>\n",
              "</div>\n",
              "      <button class=\"colab-df-convert\" onclick=\"convertToInteractive('df-298cf2b2-ced3-4dfd-aa5f-f3161adfbe8e')\"\n",
              "              title=\"Convert this dataframe to an interactive table.\"\n",
              "              style=\"display:none;\">\n",
              "        \n",
              "  <svg xmlns=\"http://www.w3.org/2000/svg\" height=\"24px\"viewBox=\"0 0 24 24\"\n",
              "       width=\"24px\">\n",
              "    <path d=\"M0 0h24v24H0V0z\" fill=\"none\"/>\n",
              "    <path d=\"M18.56 5.44l.94 2.06.94-2.06 2.06-.94-2.06-.94-.94-2.06-.94 2.06-2.06.94zm-11 1L8.5 8.5l.94-2.06 2.06-.94-2.06-.94L8.5 2.5l-.94 2.06-2.06.94zm10 10l.94 2.06.94-2.06 2.06-.94-2.06-.94-.94-2.06-.94 2.06-2.06.94z\"/><path d=\"M17.41 7.96l-1.37-1.37c-.4-.4-.92-.59-1.43-.59-.52 0-1.04.2-1.43.59L10.3 9.45l-7.72 7.72c-.78.78-.78 2.05 0 2.83L4 21.41c.39.39.9.59 1.41.59.51 0 1.02-.2 1.41-.59l7.78-7.78 2.81-2.81c.8-.78.8-2.07 0-2.86zM5.41 20L4 18.59l7.72-7.72 1.47 1.35L5.41 20z\"/>\n",
              "  </svg>\n",
              "      </button>\n",
              "      \n",
              "  <style>\n",
              "    .colab-df-container {\n",
              "      display:flex;\n",
              "      flex-wrap:wrap;\n",
              "      gap: 12px;\n",
              "    }\n",
              "\n",
              "    .colab-df-convert {\n",
              "      background-color: #E8F0FE;\n",
              "      border: none;\n",
              "      border-radius: 50%;\n",
              "      cursor: pointer;\n",
              "      display: none;\n",
              "      fill: #1967D2;\n",
              "      height: 32px;\n",
              "      padding: 0 0 0 0;\n",
              "      width: 32px;\n",
              "    }\n",
              "\n",
              "    .colab-df-convert:hover {\n",
              "      background-color: #E2EBFA;\n",
              "      box-shadow: 0px 1px 2px rgba(60, 64, 67, 0.3), 0px 1px 3px 1px rgba(60, 64, 67, 0.15);\n",
              "      fill: #174EA6;\n",
              "    }\n",
              "\n",
              "    [theme=dark] .colab-df-convert {\n",
              "      background-color: #3B4455;\n",
              "      fill: #D2E3FC;\n",
              "    }\n",
              "\n",
              "    [theme=dark] .colab-df-convert:hover {\n",
              "      background-color: #434B5C;\n",
              "      box-shadow: 0px 1px 3px 1px rgba(0, 0, 0, 0.15);\n",
              "      filter: drop-shadow(0px 1px 2px rgba(0, 0, 0, 0.3));\n",
              "      fill: #FFFFFF;\n",
              "    }\n",
              "  </style>\n",
              "\n",
              "      <script>\n",
              "        const buttonEl =\n",
              "          document.querySelector('#df-298cf2b2-ced3-4dfd-aa5f-f3161adfbe8e button.colab-df-convert');\n",
              "        buttonEl.style.display =\n",
              "          google.colab.kernel.accessAllowed ? 'block' : 'none';\n",
              "\n",
              "        async function convertToInteractive(key) {\n",
              "          const element = document.querySelector('#df-298cf2b2-ced3-4dfd-aa5f-f3161adfbe8e');\n",
              "          const dataTable =\n",
              "            await google.colab.kernel.invokeFunction('convertToInteractive',\n",
              "                                                     [key], {});\n",
              "          if (!dataTable) return;\n",
              "\n",
              "          const docLinkHtml = 'Like what you see? Visit the ' +\n",
              "            '<a target=\"_blank\" href=https://colab.research.google.com/notebooks/data_table.ipynb>data table notebook</a>'\n",
              "            + ' to learn more about interactive tables.';\n",
              "          element.innerHTML = '';\n",
              "          dataTable['output_type'] = 'display_data';\n",
              "          await google.colab.output.renderOutput(dataTable, element);\n",
              "          const docLink = document.createElement('div');\n",
              "          docLink.innerHTML = docLinkHtml;\n",
              "          element.appendChild(docLink);\n",
              "        }\n",
              "      </script>\n",
              "    </div>\n",
              "  </div>\n",
              "  "
            ]
          },
          "metadata": {},
          "execution_count": 3
        }
      ]
    },
    {
      "cell_type": "code",
      "execution_count": 4,
      "metadata": {
        "colab": {
          "base_uri": "https://localhost:8080/"
        },
        "id": "y_nf5XIPqBDs",
        "outputId": "81d75cbe-95bd-41a1-9b3b-50b38521a259"
      },
      "outputs": [
        {
          "output_type": "stream",
          "name": "stdout",
          "text": [
            "<class 'pandas.core.frame.DataFrame'>\n",
            "RangeIndex: 227 entries, 0 to 226\n",
            "Data columns (total 20 columns):\n",
            " #   Column                              Non-Null Count  Dtype  \n",
            "---  ------                              --------------  -----  \n",
            " 0   Country                             227 non-null    object \n",
            " 1   Region                              227 non-null    object \n",
            " 2   Population                          227 non-null    int64  \n",
            " 3   Area (sq. mi.)                      227 non-null    int64  \n",
            " 4   Pop. Density (per sq. mi.)          227 non-null    object \n",
            " 5   Coastline (coast/area ratio)        227 non-null    object \n",
            " 6   Net migration                       224 non-null    object \n",
            " 7   Infant mortality (per 1000 births)  224 non-null    object \n",
            " 8   GDP ($ per capita)                  226 non-null    float64\n",
            " 9   Literacy (%)                        209 non-null    object \n",
            " 10  Phones (per 1000)                   223 non-null    object \n",
            " 11  Arable (%)                          225 non-null    object \n",
            " 12  Crops (%)                           225 non-null    object \n",
            " 13  Other (%)                           225 non-null    object \n",
            " 14  Climate                             205 non-null    object \n",
            " 15  Birthrate                           224 non-null    object \n",
            " 16  Deathrate                           223 non-null    object \n",
            " 17  Agriculture                         212 non-null    object \n",
            " 18  Industry                            211 non-null    object \n",
            " 19  Service                             212 non-null    object \n",
            "dtypes: float64(1), int64(2), object(17)\n",
            "memory usage: 35.6+ KB\n"
          ]
        }
      ],
      "source": [
        "# Let's see the data types and non-null values for each column\n",
        "df.info()"
      ]
    },
    {
      "cell_type": "code",
      "execution_count": 5,
      "metadata": {
        "colab": {
          "base_uri": "https://localhost:8080/"
        },
        "id": "8QdB6tMiqBDs",
        "outputId": "ea550ff5-dd8f-489b-81cf-a3f3706f3a60"
      },
      "outputs": [
        {
          "output_type": "execute_result",
          "data": {
            "text/plain": [
              "Country                               0.00\n",
              "Region                                0.00\n",
              "Population                            0.00\n",
              "Area (sq. mi.)                        0.00\n",
              "Pop. Density (per sq. mi.)            0.00\n",
              "Coastline (coast/area ratio)          0.00\n",
              "Net migration                         1.32\n",
              "Infant mortality (per 1000 births)    1.32\n",
              "GDP ($ per capita)                    0.44\n",
              "Literacy (%)                          7.93\n",
              "Phones (per 1000)                     1.76\n",
              "Arable (%)                            0.88\n",
              "Crops (%)                             0.88\n",
              "Other (%)                             0.88\n",
              "Climate                               9.69\n",
              "Birthrate                             1.32\n",
              "Deathrate                             1.76\n",
              "Agriculture                           6.61\n",
              "Industry                              7.05\n",
              "Service                               6.61\n",
              "dtype: float64"
            ]
          },
          "metadata": {},
          "execution_count": 5
        }
      ],
      "source": [
        "round(df.isnull().sum(axis=0)*100/df.shape[0],2)"
      ]
    },
    {
      "cell_type": "code",
      "execution_count": 6,
      "metadata": {
        "colab": {
          "base_uri": "https://localhost:8080/",
          "height": 300
        },
        "id": "PChvt5aHqBDt",
        "outputId": "5560f817-837e-4172-d380-d2628563304f"
      },
      "outputs": [
        {
          "output_type": "execute_result",
          "data": {
            "text/plain": [
              "         Population  Area (sq. mi.)  GDP ($ per capita)\n",
              "count  2.270000e+02    2.270000e+02          226.000000\n",
              "mean   2.874028e+07    5.982270e+05         9689.823009\n",
              "std    1.178913e+08    1.790282e+06        10049.138513\n",
              "min    7.026000e+03    2.000000e+00          500.000000\n",
              "25%    4.376240e+05    4.647500e+03         1900.000000\n",
              "50%    4.786994e+06    8.660000e+04         5550.000000\n",
              "75%    1.749777e+07    4.418110e+05        15700.000000\n",
              "max    1.313974e+09    1.707520e+07        55100.000000"
            ],
            "text/html": [
              "\n",
              "  <div id=\"df-e028283f-d759-48a1-901f-82f48a975bef\">\n",
              "    <div class=\"colab-df-container\">\n",
              "      <div>\n",
              "<style scoped>\n",
              "    .dataframe tbody tr th:only-of-type {\n",
              "        vertical-align: middle;\n",
              "    }\n",
              "\n",
              "    .dataframe tbody tr th {\n",
              "        vertical-align: top;\n",
              "    }\n",
              "\n",
              "    .dataframe thead th {\n",
              "        text-align: right;\n",
              "    }\n",
              "</style>\n",
              "<table border=\"1\" class=\"dataframe\">\n",
              "  <thead>\n",
              "    <tr style=\"text-align: right;\">\n",
              "      <th></th>\n",
              "      <th>Population</th>\n",
              "      <th>Area (sq. mi.)</th>\n",
              "      <th>GDP ($ per capita)</th>\n",
              "    </tr>\n",
              "  </thead>\n",
              "  <tbody>\n",
              "    <tr>\n",
              "      <th>count</th>\n",
              "      <td>2.270000e+02</td>\n",
              "      <td>2.270000e+02</td>\n",
              "      <td>226.000000</td>\n",
              "    </tr>\n",
              "    <tr>\n",
              "      <th>mean</th>\n",
              "      <td>2.874028e+07</td>\n",
              "      <td>5.982270e+05</td>\n",
              "      <td>9689.823009</td>\n",
              "    </tr>\n",
              "    <tr>\n",
              "      <th>std</th>\n",
              "      <td>1.178913e+08</td>\n",
              "      <td>1.790282e+06</td>\n",
              "      <td>10049.138513</td>\n",
              "    </tr>\n",
              "    <tr>\n",
              "      <th>min</th>\n",
              "      <td>7.026000e+03</td>\n",
              "      <td>2.000000e+00</td>\n",
              "      <td>500.000000</td>\n",
              "    </tr>\n",
              "    <tr>\n",
              "      <th>25%</th>\n",
              "      <td>4.376240e+05</td>\n",
              "      <td>4.647500e+03</td>\n",
              "      <td>1900.000000</td>\n",
              "    </tr>\n",
              "    <tr>\n",
              "      <th>50%</th>\n",
              "      <td>4.786994e+06</td>\n",
              "      <td>8.660000e+04</td>\n",
              "      <td>5550.000000</td>\n",
              "    </tr>\n",
              "    <tr>\n",
              "      <th>75%</th>\n",
              "      <td>1.749777e+07</td>\n",
              "      <td>4.418110e+05</td>\n",
              "      <td>15700.000000</td>\n",
              "    </tr>\n",
              "    <tr>\n",
              "      <th>max</th>\n",
              "      <td>1.313974e+09</td>\n",
              "      <td>1.707520e+07</td>\n",
              "      <td>55100.000000</td>\n",
              "    </tr>\n",
              "  </tbody>\n",
              "</table>\n",
              "</div>\n",
              "      <button class=\"colab-df-convert\" onclick=\"convertToInteractive('df-e028283f-d759-48a1-901f-82f48a975bef')\"\n",
              "              title=\"Convert this dataframe to an interactive table.\"\n",
              "              style=\"display:none;\">\n",
              "        \n",
              "  <svg xmlns=\"http://www.w3.org/2000/svg\" height=\"24px\"viewBox=\"0 0 24 24\"\n",
              "       width=\"24px\">\n",
              "    <path d=\"M0 0h24v24H0V0z\" fill=\"none\"/>\n",
              "    <path d=\"M18.56 5.44l.94 2.06.94-2.06 2.06-.94-2.06-.94-.94-2.06-.94 2.06-2.06.94zm-11 1L8.5 8.5l.94-2.06 2.06-.94-2.06-.94L8.5 2.5l-.94 2.06-2.06.94zm10 10l.94 2.06.94-2.06 2.06-.94-2.06-.94-.94-2.06-.94 2.06-2.06.94z\"/><path d=\"M17.41 7.96l-1.37-1.37c-.4-.4-.92-.59-1.43-.59-.52 0-1.04.2-1.43.59L10.3 9.45l-7.72 7.72c-.78.78-.78 2.05 0 2.83L4 21.41c.39.39.9.59 1.41.59.51 0 1.02-.2 1.41-.59l7.78-7.78 2.81-2.81c.8-.78.8-2.07 0-2.86zM5.41 20L4 18.59l7.72-7.72 1.47 1.35L5.41 20z\"/>\n",
              "  </svg>\n",
              "      </button>\n",
              "      \n",
              "  <style>\n",
              "    .colab-df-container {\n",
              "      display:flex;\n",
              "      flex-wrap:wrap;\n",
              "      gap: 12px;\n",
              "    }\n",
              "\n",
              "    .colab-df-convert {\n",
              "      background-color: #E8F0FE;\n",
              "      border: none;\n",
              "      border-radius: 50%;\n",
              "      cursor: pointer;\n",
              "      display: none;\n",
              "      fill: #1967D2;\n",
              "      height: 32px;\n",
              "      padding: 0 0 0 0;\n",
              "      width: 32px;\n",
              "    }\n",
              "\n",
              "    .colab-df-convert:hover {\n",
              "      background-color: #E2EBFA;\n",
              "      box-shadow: 0px 1px 2px rgba(60, 64, 67, 0.3), 0px 1px 3px 1px rgba(60, 64, 67, 0.15);\n",
              "      fill: #174EA6;\n",
              "    }\n",
              "\n",
              "    [theme=dark] .colab-df-convert {\n",
              "      background-color: #3B4455;\n",
              "      fill: #D2E3FC;\n",
              "    }\n",
              "\n",
              "    [theme=dark] .colab-df-convert:hover {\n",
              "      background-color: #434B5C;\n",
              "      box-shadow: 0px 1px 3px 1px rgba(0, 0, 0, 0.15);\n",
              "      filter: drop-shadow(0px 1px 2px rgba(0, 0, 0, 0.3));\n",
              "      fill: #FFFFFF;\n",
              "    }\n",
              "  </style>\n",
              "\n",
              "      <script>\n",
              "        const buttonEl =\n",
              "          document.querySelector('#df-e028283f-d759-48a1-901f-82f48a975bef button.colab-df-convert');\n",
              "        buttonEl.style.display =\n",
              "          google.colab.kernel.accessAllowed ? 'block' : 'none';\n",
              "\n",
              "        async function convertToInteractive(key) {\n",
              "          const element = document.querySelector('#df-e028283f-d759-48a1-901f-82f48a975bef');\n",
              "          const dataTable =\n",
              "            await google.colab.kernel.invokeFunction('convertToInteractive',\n",
              "                                                     [key], {});\n",
              "          if (!dataTable) return;\n",
              "\n",
              "          const docLinkHtml = 'Like what you see? Visit the ' +\n",
              "            '<a target=\"_blank\" href=https://colab.research.google.com/notebooks/data_table.ipynb>data table notebook</a>'\n",
              "            + ' to learn more about interactive tables.';\n",
              "          element.innerHTML = '';\n",
              "          dataTable['output_type'] = 'display_data';\n",
              "          await google.colab.output.renderOutput(dataTable, element);\n",
              "          const docLink = document.createElement('div');\n",
              "          docLink.innerHTML = docLinkHtml;\n",
              "          element.appendChild(docLink);\n",
              "        }\n",
              "      </script>\n",
              "    </div>\n",
              "  </div>\n",
              "  "
            ]
          },
          "metadata": {},
          "execution_count": 6
        }
      ],
      "source": [
        "# This will print basic statistics for numerical columns\n",
        "df.describe()"
      ]
    },
    {
      "cell_type": "markdown",
      "metadata": {
        "id": "Lu46s8K1qBDt"
      },
      "source": [
        "## 3. <a name=\"3\">Data preprocessing</a>\n",
        "(<a href=\"#0\">Go to top</a>)\n"
      ]
    },
    {
      "cell_type": "markdown",
      "metadata": {
        "id": "CRU1EYiUqBDu"
      },
      "source": [
        "### Define below all the issues that you had found in the previous part\n",
        "1-     columns names     <br>\n",
        "2-     different datatype <br>\n",
        "3-     missing data(Null values)   <br>"
      ]
    },
    {
      "cell_type": "code",
      "execution_count": 7,
      "metadata": {
        "id": "DZH63qaiqBDu"
      },
      "outputs": [],
      "source": [
        "#make a copy for the original dataset\n",
        "df_copy=df.copy()"
      ]
    },
    {
      "cell_type": "markdown",
      "metadata": {
        "id": "-DC7yYnnqBDu"
      },
      "source": [
        "### for each issue adapt this methodology \n",
        "- start by defining the solution\n",
        "- apply this solution onn the data\n",
        "- test the solution to make sure that you have solved the issue"
      ]
    },
    {
      "cell_type": "markdown",
      "metadata": {
        "id": "N_nRd9zrqBDv"
      },
      "source": [
        "**First issue**"
      ]
    },
    {
      "cell_type": "code",
      "execution_count": 8,
      "metadata": {
        "id": "jIO6ojgEqBDv"
      },
      "outputs": [],
      "source": [
        "#solution \n",
        "#There are problems with our column names.\n",
        "df_copy.columns = ([\"country\",\"region\",\"population\",\"area\",\"density\",\n",
        "                    \"coastline\",\"migration\",\"infant_mortality\",\"gdp\",\"literacy\",\n",
        "                    \"phones\",\"arable\",\"crops\",\"other\",\"climate\",\n",
        "                    \"birthrate\",\"deathrate\",\"agriculture\",\"industry\",\"service\"])\n"
      ]
    },
    {
      "cell_type": "code",
      "execution_count": 9,
      "metadata": {
        "id": "NhnH7G5vqBDv",
        "colab": {
          "base_uri": "https://localhost:8080/"
        },
        "outputId": "82384ebb-fcad-47da-906f-7cb808b5aa34"
      },
      "outputs": [
        {
          "output_type": "stream",
          "name": "stdout",
          "text": [
            "<class 'pandas.core.frame.DataFrame'>\n",
            "RangeIndex: 227 entries, 0 to 226\n",
            "Data columns (total 20 columns):\n",
            " #   Column            Non-Null Count  Dtype  \n",
            "---  ------            --------------  -----  \n",
            " 0   country           227 non-null    object \n",
            " 1   region            227 non-null    object \n",
            " 2   population        227 non-null    int64  \n",
            " 3   area              227 non-null    int64  \n",
            " 4   density           227 non-null    object \n",
            " 5   coastline         227 non-null    object \n",
            " 6   migration         224 non-null    object \n",
            " 7   infant_mortality  224 non-null    object \n",
            " 8   gdp               226 non-null    float64\n",
            " 9   literacy          209 non-null    object \n",
            " 10  phones            223 non-null    object \n",
            " 11  arable            225 non-null    object \n",
            " 12  crops             225 non-null    object \n",
            " 13  other             225 non-null    object \n",
            " 14  climate           205 non-null    object \n",
            " 15  birthrate         224 non-null    object \n",
            " 16  deathrate         223 non-null    object \n",
            " 17  agriculture       212 non-null    object \n",
            " 18  industry          211 non-null    object \n",
            " 19  service           212 non-null    object \n",
            "dtypes: float64(1), int64(2), object(17)\n",
            "memory usage: 35.6+ KB\n"
          ]
        }
      ],
      "source": [
        "#test \n",
        "df_copy.info()"
      ]
    },
    {
      "cell_type": "markdown",
      "metadata": {
        "id": "OWD71O2tqBDw"
      },
      "source": [
        "**Second issue**"
      ]
    },
    {
      "cell_type": "code",
      "execution_count": 10,
      "metadata": {
        "id": "g-65oACUqBDw"
      },
      "outputs": [],
      "source": [
        "#solution \n",
        "##We have to change our datatype to \"category\" and \"float\" to use easily\n",
        "df_copy.country = df_copy.country.astype('category')\n",
        "df_copy.region = df_copy.region.astype('category')\n",
        "df_copy.density =df_copy.density.str.replace(\",\",\".\").astype(float)\n",
        "df_copy.coastline = df_copy.coastline.str.replace(\",\",\".\").astype(float)\n",
        "df_copy.migration = df_copy.migration.str.replace(\",\",\".\").astype(float)\n",
        "df_copy.infant_mortality = df_copy.infant_mortality.str.replace(\",\",\".\").astype(float)\n",
        "df_copy.literacy = df_copy.literacy.str.replace(\",\",\".\").astype(float)\n",
        "df_copy.phones = df_copy.phones.str.replace(\",\",\".\").astype(float)\n",
        "df_copy.arable = df_copy.arable.str.replace(\",\",\".\").astype(float)\n",
        "df_copy.crops = df_copy.crops.str.replace(\",\",\".\").astype(float)\n",
        "df_copy.other = df_copy.other.str.replace(\",\",\".\").astype(float)\n",
        "df_copy.climate =df_copy.climate.str.replace(\",\",\".\").astype(float)\n",
        "df_copy.birthrate = df_copy.birthrate.str.replace(\",\",\".\").astype(float)\n",
        "df_copy.deathrate = df_copy.deathrate.str.replace(\",\",\".\").astype(float)\n",
        "df_copy.agriculture = df_copy.agriculture.str.replace(\",\",\".\").astype(float)\n",
        "df_copy.industry = df_copy.industry.str.replace(\",\",\".\").astype(float)\n",
        "df_copy.service = df_copy.service.str.replace(\",\",\".\").astype(float)"
      ]
    },
    {
      "cell_type": "code",
      "execution_count": 11,
      "metadata": {
        "id": "ZJkaarKWqBDw",
        "colab": {
          "base_uri": "https://localhost:8080/",
          "height": 843
        },
        "outputId": "f34e130f-6171-4fa3-8bbe-3fd89475688b"
      },
      "outputs": [
        {
          "output_type": "stream",
          "name": "stdout",
          "text": [
            "<class 'pandas.core.frame.DataFrame'>\n",
            "RangeIndex: 227 entries, 0 to 226\n",
            "Data columns (total 20 columns):\n",
            " #   Column            Non-Null Count  Dtype   \n",
            "---  ------            --------------  -----   \n",
            " 0   country           227 non-null    category\n",
            " 1   region            227 non-null    category\n",
            " 2   population        227 non-null    int64   \n",
            " 3   area              227 non-null    int64   \n",
            " 4   density           227 non-null    float64 \n",
            " 5   coastline         227 non-null    float64 \n",
            " 6   migration         224 non-null    float64 \n",
            " 7   infant_mortality  224 non-null    float64 \n",
            " 8   gdp               226 non-null    float64 \n",
            " 9   literacy          209 non-null    float64 \n",
            " 10  phones            223 non-null    float64 \n",
            " 11  arable            225 non-null    float64 \n",
            " 12  crops             225 non-null    float64 \n",
            " 13  other             225 non-null    float64 \n",
            " 14  climate           205 non-null    float64 \n",
            " 15  birthrate         224 non-null    float64 \n",
            " 16  deathrate         223 non-null    float64 \n",
            " 17  agriculture       212 non-null    float64 \n",
            " 18  industry          211 non-null    float64 \n",
            " 19  service           212 non-null    float64 \n",
            "dtypes: category(2), float64(16), int64(2)\n",
            "memory usage: 43.0 KB\n"
          ]
        },
        {
          "output_type": "execute_result",
          "data": {
            "text/plain": [
              "           country                               region  population     area  \\\n",
              "0     Afghanistan         ASIA (EX. NEAR EAST)             31056997   647500   \n",
              "1         Albania   EASTERN EUROPE                          3581655    28748   \n",
              "2         Algeria   NORTHERN AFRICA                        32930091  2381740   \n",
              "3  American Samoa   OCEANIA                                   57794      199   \n",
              "4         Andorra   WESTERN EUROPE                            71201      468   \n",
              "\n",
              "   density  coastline  migration  infant_mortality      gdp  literacy  phones  \\\n",
              "0     48.0       0.00      23.06            163.07    700.0      36.0     3.2   \n",
              "1    124.6       1.26      -4.93             21.52   4500.0      86.5    71.2   \n",
              "2     13.8       0.04      -0.39             31.00   6000.0      70.0    78.1   \n",
              "3    290.4      58.29     -20.71              9.27   8000.0      97.0   259.5   \n",
              "4    152.1       0.00       6.60              4.05  19000.0     100.0   497.2   \n",
              "\n",
              "   arable  crops  other  climate  birthrate  deathrate  agriculture  industry  \\\n",
              "0   12.13   0.22  87.65      1.0      46.60      20.34        0.380     0.240   \n",
              "1   21.09   4.42  74.49      3.0      15.11       5.22        0.232     0.188   \n",
              "2    3.22   0.25  96.53      1.0      17.14       4.61        0.101     0.600   \n",
              "3   10.00  15.00  75.00      2.0      22.46       3.27          NaN       NaN   \n",
              "4    2.22   0.00  97.78      3.0       8.71       6.25          NaN       NaN   \n",
              "\n",
              "   service  \n",
              "0    0.380  \n",
              "1    0.579  \n",
              "2    0.298  \n",
              "3      NaN  \n",
              "4      NaN  "
            ],
            "text/html": [
              "\n",
              "  <div id=\"df-3faa284f-264a-452a-b77f-b27d5df79671\">\n",
              "    <div class=\"colab-df-container\">\n",
              "      <div>\n",
              "<style scoped>\n",
              "    .dataframe tbody tr th:only-of-type {\n",
              "        vertical-align: middle;\n",
              "    }\n",
              "\n",
              "    .dataframe tbody tr th {\n",
              "        vertical-align: top;\n",
              "    }\n",
              "\n",
              "    .dataframe thead th {\n",
              "        text-align: right;\n",
              "    }\n",
              "</style>\n",
              "<table border=\"1\" class=\"dataframe\">\n",
              "  <thead>\n",
              "    <tr style=\"text-align: right;\">\n",
              "      <th></th>\n",
              "      <th>country</th>\n",
              "      <th>region</th>\n",
              "      <th>population</th>\n",
              "      <th>area</th>\n",
              "      <th>density</th>\n",
              "      <th>coastline</th>\n",
              "      <th>migration</th>\n",
              "      <th>infant_mortality</th>\n",
              "      <th>gdp</th>\n",
              "      <th>literacy</th>\n",
              "      <th>phones</th>\n",
              "      <th>arable</th>\n",
              "      <th>crops</th>\n",
              "      <th>other</th>\n",
              "      <th>climate</th>\n",
              "      <th>birthrate</th>\n",
              "      <th>deathrate</th>\n",
              "      <th>agriculture</th>\n",
              "      <th>industry</th>\n",
              "      <th>service</th>\n",
              "    </tr>\n",
              "  </thead>\n",
              "  <tbody>\n",
              "    <tr>\n",
              "      <th>0</th>\n",
              "      <td>Afghanistan</td>\n",
              "      <td>ASIA (EX. NEAR EAST)</td>\n",
              "      <td>31056997</td>\n",
              "      <td>647500</td>\n",
              "      <td>48.0</td>\n",
              "      <td>0.00</td>\n",
              "      <td>23.06</td>\n",
              "      <td>163.07</td>\n",
              "      <td>700.0</td>\n",
              "      <td>36.0</td>\n",
              "      <td>3.2</td>\n",
              "      <td>12.13</td>\n",
              "      <td>0.22</td>\n",
              "      <td>87.65</td>\n",
              "      <td>1.0</td>\n",
              "      <td>46.60</td>\n",
              "      <td>20.34</td>\n",
              "      <td>0.380</td>\n",
              "      <td>0.240</td>\n",
              "      <td>0.380</td>\n",
              "    </tr>\n",
              "    <tr>\n",
              "      <th>1</th>\n",
              "      <td>Albania</td>\n",
              "      <td>EASTERN EUROPE</td>\n",
              "      <td>3581655</td>\n",
              "      <td>28748</td>\n",
              "      <td>124.6</td>\n",
              "      <td>1.26</td>\n",
              "      <td>-4.93</td>\n",
              "      <td>21.52</td>\n",
              "      <td>4500.0</td>\n",
              "      <td>86.5</td>\n",
              "      <td>71.2</td>\n",
              "      <td>21.09</td>\n",
              "      <td>4.42</td>\n",
              "      <td>74.49</td>\n",
              "      <td>3.0</td>\n",
              "      <td>15.11</td>\n",
              "      <td>5.22</td>\n",
              "      <td>0.232</td>\n",
              "      <td>0.188</td>\n",
              "      <td>0.579</td>\n",
              "    </tr>\n",
              "    <tr>\n",
              "      <th>2</th>\n",
              "      <td>Algeria</td>\n",
              "      <td>NORTHERN AFRICA</td>\n",
              "      <td>32930091</td>\n",
              "      <td>2381740</td>\n",
              "      <td>13.8</td>\n",
              "      <td>0.04</td>\n",
              "      <td>-0.39</td>\n",
              "      <td>31.00</td>\n",
              "      <td>6000.0</td>\n",
              "      <td>70.0</td>\n",
              "      <td>78.1</td>\n",
              "      <td>3.22</td>\n",
              "      <td>0.25</td>\n",
              "      <td>96.53</td>\n",
              "      <td>1.0</td>\n",
              "      <td>17.14</td>\n",
              "      <td>4.61</td>\n",
              "      <td>0.101</td>\n",
              "      <td>0.600</td>\n",
              "      <td>0.298</td>\n",
              "    </tr>\n",
              "    <tr>\n",
              "      <th>3</th>\n",
              "      <td>American Samoa</td>\n",
              "      <td>OCEANIA</td>\n",
              "      <td>57794</td>\n",
              "      <td>199</td>\n",
              "      <td>290.4</td>\n",
              "      <td>58.29</td>\n",
              "      <td>-20.71</td>\n",
              "      <td>9.27</td>\n",
              "      <td>8000.0</td>\n",
              "      <td>97.0</td>\n",
              "      <td>259.5</td>\n",
              "      <td>10.00</td>\n",
              "      <td>15.00</td>\n",
              "      <td>75.00</td>\n",
              "      <td>2.0</td>\n",
              "      <td>22.46</td>\n",
              "      <td>3.27</td>\n",
              "      <td>NaN</td>\n",
              "      <td>NaN</td>\n",
              "      <td>NaN</td>\n",
              "    </tr>\n",
              "    <tr>\n",
              "      <th>4</th>\n",
              "      <td>Andorra</td>\n",
              "      <td>WESTERN EUROPE</td>\n",
              "      <td>71201</td>\n",
              "      <td>468</td>\n",
              "      <td>152.1</td>\n",
              "      <td>0.00</td>\n",
              "      <td>6.60</td>\n",
              "      <td>4.05</td>\n",
              "      <td>19000.0</td>\n",
              "      <td>100.0</td>\n",
              "      <td>497.2</td>\n",
              "      <td>2.22</td>\n",
              "      <td>0.00</td>\n",
              "      <td>97.78</td>\n",
              "      <td>3.0</td>\n",
              "      <td>8.71</td>\n",
              "      <td>6.25</td>\n",
              "      <td>NaN</td>\n",
              "      <td>NaN</td>\n",
              "      <td>NaN</td>\n",
              "    </tr>\n",
              "  </tbody>\n",
              "</table>\n",
              "</div>\n",
              "      <button class=\"colab-df-convert\" onclick=\"convertToInteractive('df-3faa284f-264a-452a-b77f-b27d5df79671')\"\n",
              "              title=\"Convert this dataframe to an interactive table.\"\n",
              "              style=\"display:none;\">\n",
              "        \n",
              "  <svg xmlns=\"http://www.w3.org/2000/svg\" height=\"24px\"viewBox=\"0 0 24 24\"\n",
              "       width=\"24px\">\n",
              "    <path d=\"M0 0h24v24H0V0z\" fill=\"none\"/>\n",
              "    <path d=\"M18.56 5.44l.94 2.06.94-2.06 2.06-.94-2.06-.94-.94-2.06-.94 2.06-2.06.94zm-11 1L8.5 8.5l.94-2.06 2.06-.94-2.06-.94L8.5 2.5l-.94 2.06-2.06.94zm10 10l.94 2.06.94-2.06 2.06-.94-2.06-.94-.94-2.06-.94 2.06-2.06.94z\"/><path d=\"M17.41 7.96l-1.37-1.37c-.4-.4-.92-.59-1.43-.59-.52 0-1.04.2-1.43.59L10.3 9.45l-7.72 7.72c-.78.78-.78 2.05 0 2.83L4 21.41c.39.39.9.59 1.41.59.51 0 1.02-.2 1.41-.59l7.78-7.78 2.81-2.81c.8-.78.8-2.07 0-2.86zM5.41 20L4 18.59l7.72-7.72 1.47 1.35L5.41 20z\"/>\n",
              "  </svg>\n",
              "      </button>\n",
              "      \n",
              "  <style>\n",
              "    .colab-df-container {\n",
              "      display:flex;\n",
              "      flex-wrap:wrap;\n",
              "      gap: 12px;\n",
              "    }\n",
              "\n",
              "    .colab-df-convert {\n",
              "      background-color: #E8F0FE;\n",
              "      border: none;\n",
              "      border-radius: 50%;\n",
              "      cursor: pointer;\n",
              "      display: none;\n",
              "      fill: #1967D2;\n",
              "      height: 32px;\n",
              "      padding: 0 0 0 0;\n",
              "      width: 32px;\n",
              "    }\n",
              "\n",
              "    .colab-df-convert:hover {\n",
              "      background-color: #E2EBFA;\n",
              "      box-shadow: 0px 1px 2px rgba(60, 64, 67, 0.3), 0px 1px 3px 1px rgba(60, 64, 67, 0.15);\n",
              "      fill: #174EA6;\n",
              "    }\n",
              "\n",
              "    [theme=dark] .colab-df-convert {\n",
              "      background-color: #3B4455;\n",
              "      fill: #D2E3FC;\n",
              "    }\n",
              "\n",
              "    [theme=dark] .colab-df-convert:hover {\n",
              "      background-color: #434B5C;\n",
              "      box-shadow: 0px 1px 3px 1px rgba(0, 0, 0, 0.15);\n",
              "      filter: drop-shadow(0px 1px 2px rgba(0, 0, 0, 0.3));\n",
              "      fill: #FFFFFF;\n",
              "    }\n",
              "  </style>\n",
              "\n",
              "      <script>\n",
              "        const buttonEl =\n",
              "          document.querySelector('#df-3faa284f-264a-452a-b77f-b27d5df79671 button.colab-df-convert');\n",
              "        buttonEl.style.display =\n",
              "          google.colab.kernel.accessAllowed ? 'block' : 'none';\n",
              "\n",
              "        async function convertToInteractive(key) {\n",
              "          const element = document.querySelector('#df-3faa284f-264a-452a-b77f-b27d5df79671');\n",
              "          const dataTable =\n",
              "            await google.colab.kernel.invokeFunction('convertToInteractive',\n",
              "                                                     [key], {});\n",
              "          if (!dataTable) return;\n",
              "\n",
              "          const docLinkHtml = 'Like what you see? Visit the ' +\n",
              "            '<a target=\"_blank\" href=https://colab.research.google.com/notebooks/data_table.ipynb>data table notebook</a>'\n",
              "            + ' to learn more about interactive tables.';\n",
              "          element.innerHTML = '';\n",
              "          dataTable['output_type'] = 'display_data';\n",
              "          await google.colab.output.renderOutput(dataTable, element);\n",
              "          const docLink = document.createElement('div');\n",
              "          docLink.innerHTML = docLinkHtml;\n",
              "          element.appendChild(docLink);\n",
              "        }\n",
              "      </script>\n",
              "    </div>\n",
              "  </div>\n",
              "  "
            ]
          },
          "metadata": {},
          "execution_count": 11
        }
      ],
      "source": [
        "#test \n",
        "df_copy.info()\n",
        "df_copy.head()"
      ]
    },
    {
      "cell_type": "markdown",
      "source": [
        "Third issue"
      ],
      "metadata": {
        "id": "muodTfAQhNiy"
      }
    },
    {
      "cell_type": "code",
      "execution_count": 12,
      "metadata": {
        "id": "qo0bsCxXqBDx",
        "colab": {
          "base_uri": "https://localhost:8080/"
        },
        "outputId": "b9422a0e-725e-4d81-b411-a128b0fd8917"
      },
      "outputs": [
        {
          "output_type": "execute_result",
          "data": {
            "text/plain": [
              "country              0\n",
              "region               0\n",
              "population           0\n",
              "area                 0\n",
              "density              0\n",
              "coastline            0\n",
              "migration            3\n",
              "infant_mortality     3\n",
              "gdp                  1\n",
              "literacy            18\n",
              "phones               4\n",
              "arable               2\n",
              "crops                2\n",
              "other                2\n",
              "climate             22\n",
              "birthrate            3\n",
              "deathrate            4\n",
              "agriculture         15\n",
              "industry            16\n",
              "service             15\n",
              "dtype: int64"
            ]
          },
          "metadata": {},
          "execution_count": 12
        }
      ],
      "source": [
        "missing = df_copy.isnull().sum()\n",
        "missing"
      ]
    },
    {
      "cell_type": "code",
      "execution_count": 13,
      "metadata": {
        "id": "aXpBpWJTqBDx"
      },
      "outputs": [],
      "source": [
        "#solution \n",
        "#There are some Nan values and these will be a problem for us. So we have fix them\n",
        "df_copy.fillna(df_copy.mean(),inplace=True)"
      ]
    },
    {
      "cell_type": "code",
      "source": [
        "#test\n",
        "missing = df_copy.isnull().sum()\n",
        "missing"
      ],
      "metadata": {
        "id": "--D802xjqBDx",
        "colab": {
          "base_uri": "https://localhost:8080/"
        },
        "outputId": "f1d79c68-1a17-4eca-b4c4-4262d61008da"
      },
      "execution_count": 14,
      "outputs": [
        {
          "output_type": "execute_result",
          "data": {
            "text/plain": [
              "country             0\n",
              "region              0\n",
              "population          0\n",
              "area                0\n",
              "density             0\n",
              "coastline           0\n",
              "migration           0\n",
              "infant_mortality    0\n",
              "gdp                 0\n",
              "literacy            0\n",
              "phones              0\n",
              "arable              0\n",
              "crops               0\n",
              "other               0\n",
              "climate             0\n",
              "birthrate           0\n",
              "deathrate           0\n",
              "agriculture         0\n",
              "industry            0\n",
              "service             0\n",
              "dtype: int64"
            ]
          },
          "metadata": {},
          "execution_count": 14
        }
      ]
    },
    {
      "cell_type": "code",
      "source": [
        "df_copy.drop(df_copy.columns[[0,1]], axis=1, inplace=True)\n",
        "df_copy"
      ],
      "metadata": {
        "colab": {
          "base_uri": "https://localhost:8080/",
          "height": 487
        },
        "id": "8nvl7O-Na-y3",
        "outputId": "bd4b2d38-5667-48bf-b71b-9a6347085823"
      },
      "execution_count": 22,
      "outputs": [
        {
          "output_type": "execute_result",
          "data": {
            "text/plain": [
              "     population     area  density  coastline  migration  infant_mortality  \\\n",
              "0      31056997   647500     48.0       0.00  23.060000        163.070000   \n",
              "1       3581655    28748    124.6       1.26  -4.930000         21.520000   \n",
              "2      32930091  2381740     13.8       0.04  -0.390000         31.000000   \n",
              "3         57794      199    290.4      58.29 -20.710000          9.270000   \n",
              "4         71201      468    152.1       0.00   6.600000          4.050000   \n",
              "..          ...      ...      ...        ...        ...               ...   \n",
              "222     2460492     5860    419.9       0.00   2.980000         19.620000   \n",
              "223      273008   266000      1.0       0.42   0.038125         35.506964   \n",
              "224    21456188   527970     40.6       0.36   0.000000         61.500000   \n",
              "225    11502010   752614     15.3       0.00   0.000000         88.290000   \n",
              "226    12236805   390580     31.3       0.00   0.000000         67.690000   \n",
              "\n",
              "              gdp    literacy      phones  arable  crops  other  climate  \\\n",
              "0      700.000000   36.000000    3.200000   12.13   0.22  87.65      1.0   \n",
              "1     4500.000000   86.500000   71.200000   21.09   4.42  74.49      3.0   \n",
              "2     6000.000000   70.000000   78.100000    3.22   0.25  96.53      1.0   \n",
              "3     8000.000000   97.000000  259.500000   10.00  15.00  75.00      2.0   \n",
              "4    19000.000000  100.000000  497.200000    2.22   0.00  97.78      3.0   \n",
              "..            ...         ...         ...     ...    ...    ...      ...   \n",
              "222    800.000000   82.838278  145.200000   16.90  18.97  64.13      3.0   \n",
              "223   9689.823009   82.838278  236.061435    0.02   0.00  99.98      1.0   \n",
              "224    800.000000   50.200000   37.200000    2.78   0.24  96.98      1.0   \n",
              "225    800.000000   80.600000    8.200000    7.08   0.03  92.90      2.0   \n",
              "226   1900.000000   90.700000   26.800000    8.32   0.34  91.34      2.0   \n",
              "\n",
              "     birthrate  deathrate  agriculture  industry   service  \n",
              "0    46.600000  20.340000     0.380000  0.240000  0.380000  \n",
              "1    15.110000   5.220000     0.232000  0.188000  0.579000  \n",
              "2    17.140000   4.610000     0.101000  0.600000  0.298000  \n",
              "3    22.460000   3.270000     0.150844  0.282711  0.565283  \n",
              "4     8.710000   6.250000     0.150844  0.282711  0.565283  \n",
              "..         ...        ...          ...       ...       ...  \n",
              "222  31.670000   3.920000     0.090000  0.280000  0.630000  \n",
              "223  22.114732   9.241345     0.150844  0.282711  0.400000  \n",
              "224  42.890000   8.300000     0.135000  0.472000  0.393000  \n",
              "225  41.000000  19.930000     0.220000  0.290000  0.489000  \n",
              "226  28.010000  21.840000     0.179000  0.243000  0.579000  \n",
              "\n",
              "[227 rows x 18 columns]"
            ],
            "text/html": [
              "\n",
              "  <div id=\"df-47d83aeb-5907-4896-be78-7a1a12d523fc\">\n",
              "    <div class=\"colab-df-container\">\n",
              "      <div>\n",
              "<style scoped>\n",
              "    .dataframe tbody tr th:only-of-type {\n",
              "        vertical-align: middle;\n",
              "    }\n",
              "\n",
              "    .dataframe tbody tr th {\n",
              "        vertical-align: top;\n",
              "    }\n",
              "\n",
              "    .dataframe thead th {\n",
              "        text-align: right;\n",
              "    }\n",
              "</style>\n",
              "<table border=\"1\" class=\"dataframe\">\n",
              "  <thead>\n",
              "    <tr style=\"text-align: right;\">\n",
              "      <th></th>\n",
              "      <th>population</th>\n",
              "      <th>area</th>\n",
              "      <th>density</th>\n",
              "      <th>coastline</th>\n",
              "      <th>migration</th>\n",
              "      <th>infant_mortality</th>\n",
              "      <th>gdp</th>\n",
              "      <th>literacy</th>\n",
              "      <th>phones</th>\n",
              "      <th>arable</th>\n",
              "      <th>crops</th>\n",
              "      <th>other</th>\n",
              "      <th>climate</th>\n",
              "      <th>birthrate</th>\n",
              "      <th>deathrate</th>\n",
              "      <th>agriculture</th>\n",
              "      <th>industry</th>\n",
              "      <th>service</th>\n",
              "    </tr>\n",
              "  </thead>\n",
              "  <tbody>\n",
              "    <tr>\n",
              "      <th>0</th>\n",
              "      <td>31056997</td>\n",
              "      <td>647500</td>\n",
              "      <td>48.0</td>\n",
              "      <td>0.00</td>\n",
              "      <td>23.060000</td>\n",
              "      <td>163.070000</td>\n",
              "      <td>700.000000</td>\n",
              "      <td>36.000000</td>\n",
              "      <td>3.200000</td>\n",
              "      <td>12.13</td>\n",
              "      <td>0.22</td>\n",
              "      <td>87.65</td>\n",
              "      <td>1.0</td>\n",
              "      <td>46.600000</td>\n",
              "      <td>20.340000</td>\n",
              "      <td>0.380000</td>\n",
              "      <td>0.240000</td>\n",
              "      <td>0.380000</td>\n",
              "    </tr>\n",
              "    <tr>\n",
              "      <th>1</th>\n",
              "      <td>3581655</td>\n",
              "      <td>28748</td>\n",
              "      <td>124.6</td>\n",
              "      <td>1.26</td>\n",
              "      <td>-4.930000</td>\n",
              "      <td>21.520000</td>\n",
              "      <td>4500.000000</td>\n",
              "      <td>86.500000</td>\n",
              "      <td>71.200000</td>\n",
              "      <td>21.09</td>\n",
              "      <td>4.42</td>\n",
              "      <td>74.49</td>\n",
              "      <td>3.0</td>\n",
              "      <td>15.110000</td>\n",
              "      <td>5.220000</td>\n",
              "      <td>0.232000</td>\n",
              "      <td>0.188000</td>\n",
              "      <td>0.579000</td>\n",
              "    </tr>\n",
              "    <tr>\n",
              "      <th>2</th>\n",
              "      <td>32930091</td>\n",
              "      <td>2381740</td>\n",
              "      <td>13.8</td>\n",
              "      <td>0.04</td>\n",
              "      <td>-0.390000</td>\n",
              "      <td>31.000000</td>\n",
              "      <td>6000.000000</td>\n",
              "      <td>70.000000</td>\n",
              "      <td>78.100000</td>\n",
              "      <td>3.22</td>\n",
              "      <td>0.25</td>\n",
              "      <td>96.53</td>\n",
              "      <td>1.0</td>\n",
              "      <td>17.140000</td>\n",
              "      <td>4.610000</td>\n",
              "      <td>0.101000</td>\n",
              "      <td>0.600000</td>\n",
              "      <td>0.298000</td>\n",
              "    </tr>\n",
              "    <tr>\n",
              "      <th>3</th>\n",
              "      <td>57794</td>\n",
              "      <td>199</td>\n",
              "      <td>290.4</td>\n",
              "      <td>58.29</td>\n",
              "      <td>-20.710000</td>\n",
              "      <td>9.270000</td>\n",
              "      <td>8000.000000</td>\n",
              "      <td>97.000000</td>\n",
              "      <td>259.500000</td>\n",
              "      <td>10.00</td>\n",
              "      <td>15.00</td>\n",
              "      <td>75.00</td>\n",
              "      <td>2.0</td>\n",
              "      <td>22.460000</td>\n",
              "      <td>3.270000</td>\n",
              "      <td>0.150844</td>\n",
              "      <td>0.282711</td>\n",
              "      <td>0.565283</td>\n",
              "    </tr>\n",
              "    <tr>\n",
              "      <th>4</th>\n",
              "      <td>71201</td>\n",
              "      <td>468</td>\n",
              "      <td>152.1</td>\n",
              "      <td>0.00</td>\n",
              "      <td>6.600000</td>\n",
              "      <td>4.050000</td>\n",
              "      <td>19000.000000</td>\n",
              "      <td>100.000000</td>\n",
              "      <td>497.200000</td>\n",
              "      <td>2.22</td>\n",
              "      <td>0.00</td>\n",
              "      <td>97.78</td>\n",
              "      <td>3.0</td>\n",
              "      <td>8.710000</td>\n",
              "      <td>6.250000</td>\n",
              "      <td>0.150844</td>\n",
              "      <td>0.282711</td>\n",
              "      <td>0.565283</td>\n",
              "    </tr>\n",
              "    <tr>\n",
              "      <th>...</th>\n",
              "      <td>...</td>\n",
              "      <td>...</td>\n",
              "      <td>...</td>\n",
              "      <td>...</td>\n",
              "      <td>...</td>\n",
              "      <td>...</td>\n",
              "      <td>...</td>\n",
              "      <td>...</td>\n",
              "      <td>...</td>\n",
              "      <td>...</td>\n",
              "      <td>...</td>\n",
              "      <td>...</td>\n",
              "      <td>...</td>\n",
              "      <td>...</td>\n",
              "      <td>...</td>\n",
              "      <td>...</td>\n",
              "      <td>...</td>\n",
              "      <td>...</td>\n",
              "    </tr>\n",
              "    <tr>\n",
              "      <th>222</th>\n",
              "      <td>2460492</td>\n",
              "      <td>5860</td>\n",
              "      <td>419.9</td>\n",
              "      <td>0.00</td>\n",
              "      <td>2.980000</td>\n",
              "      <td>19.620000</td>\n",
              "      <td>800.000000</td>\n",
              "      <td>82.838278</td>\n",
              "      <td>145.200000</td>\n",
              "      <td>16.90</td>\n",
              "      <td>18.97</td>\n",
              "      <td>64.13</td>\n",
              "      <td>3.0</td>\n",
              "      <td>31.670000</td>\n",
              "      <td>3.920000</td>\n",
              "      <td>0.090000</td>\n",
              "      <td>0.280000</td>\n",
              "      <td>0.630000</td>\n",
              "    </tr>\n",
              "    <tr>\n",
              "      <th>223</th>\n",
              "      <td>273008</td>\n",
              "      <td>266000</td>\n",
              "      <td>1.0</td>\n",
              "      <td>0.42</td>\n",
              "      <td>0.038125</td>\n",
              "      <td>35.506964</td>\n",
              "      <td>9689.823009</td>\n",
              "      <td>82.838278</td>\n",
              "      <td>236.061435</td>\n",
              "      <td>0.02</td>\n",
              "      <td>0.00</td>\n",
              "      <td>99.98</td>\n",
              "      <td>1.0</td>\n",
              "      <td>22.114732</td>\n",
              "      <td>9.241345</td>\n",
              "      <td>0.150844</td>\n",
              "      <td>0.282711</td>\n",
              "      <td>0.400000</td>\n",
              "    </tr>\n",
              "    <tr>\n",
              "      <th>224</th>\n",
              "      <td>21456188</td>\n",
              "      <td>527970</td>\n",
              "      <td>40.6</td>\n",
              "      <td>0.36</td>\n",
              "      <td>0.000000</td>\n",
              "      <td>61.500000</td>\n",
              "      <td>800.000000</td>\n",
              "      <td>50.200000</td>\n",
              "      <td>37.200000</td>\n",
              "      <td>2.78</td>\n",
              "      <td>0.24</td>\n",
              "      <td>96.98</td>\n",
              "      <td>1.0</td>\n",
              "      <td>42.890000</td>\n",
              "      <td>8.300000</td>\n",
              "      <td>0.135000</td>\n",
              "      <td>0.472000</td>\n",
              "      <td>0.393000</td>\n",
              "    </tr>\n",
              "    <tr>\n",
              "      <th>225</th>\n",
              "      <td>11502010</td>\n",
              "      <td>752614</td>\n",
              "      <td>15.3</td>\n",
              "      <td>0.00</td>\n",
              "      <td>0.000000</td>\n",
              "      <td>88.290000</td>\n",
              "      <td>800.000000</td>\n",
              "      <td>80.600000</td>\n",
              "      <td>8.200000</td>\n",
              "      <td>7.08</td>\n",
              "      <td>0.03</td>\n",
              "      <td>92.90</td>\n",
              "      <td>2.0</td>\n",
              "      <td>41.000000</td>\n",
              "      <td>19.930000</td>\n",
              "      <td>0.220000</td>\n",
              "      <td>0.290000</td>\n",
              "      <td>0.489000</td>\n",
              "    </tr>\n",
              "    <tr>\n",
              "      <th>226</th>\n",
              "      <td>12236805</td>\n",
              "      <td>390580</td>\n",
              "      <td>31.3</td>\n",
              "      <td>0.00</td>\n",
              "      <td>0.000000</td>\n",
              "      <td>67.690000</td>\n",
              "      <td>1900.000000</td>\n",
              "      <td>90.700000</td>\n",
              "      <td>26.800000</td>\n",
              "      <td>8.32</td>\n",
              "      <td>0.34</td>\n",
              "      <td>91.34</td>\n",
              "      <td>2.0</td>\n",
              "      <td>28.010000</td>\n",
              "      <td>21.840000</td>\n",
              "      <td>0.179000</td>\n",
              "      <td>0.243000</td>\n",
              "      <td>0.579000</td>\n",
              "    </tr>\n",
              "  </tbody>\n",
              "</table>\n",
              "<p>227 rows × 18 columns</p>\n",
              "</div>\n",
              "      <button class=\"colab-df-convert\" onclick=\"convertToInteractive('df-47d83aeb-5907-4896-be78-7a1a12d523fc')\"\n",
              "              title=\"Convert this dataframe to an interactive table.\"\n",
              "              style=\"display:none;\">\n",
              "        \n",
              "  <svg xmlns=\"http://www.w3.org/2000/svg\" height=\"24px\"viewBox=\"0 0 24 24\"\n",
              "       width=\"24px\">\n",
              "    <path d=\"M0 0h24v24H0V0z\" fill=\"none\"/>\n",
              "    <path d=\"M18.56 5.44l.94 2.06.94-2.06 2.06-.94-2.06-.94-.94-2.06-.94 2.06-2.06.94zm-11 1L8.5 8.5l.94-2.06 2.06-.94-2.06-.94L8.5 2.5l-.94 2.06-2.06.94zm10 10l.94 2.06.94-2.06 2.06-.94-2.06-.94-.94-2.06-.94 2.06-2.06.94z\"/><path d=\"M17.41 7.96l-1.37-1.37c-.4-.4-.92-.59-1.43-.59-.52 0-1.04.2-1.43.59L10.3 9.45l-7.72 7.72c-.78.78-.78 2.05 0 2.83L4 21.41c.39.39.9.59 1.41.59.51 0 1.02-.2 1.41-.59l7.78-7.78 2.81-2.81c.8-.78.8-2.07 0-2.86zM5.41 20L4 18.59l7.72-7.72 1.47 1.35L5.41 20z\"/>\n",
              "  </svg>\n",
              "      </button>\n",
              "      \n",
              "  <style>\n",
              "    .colab-df-container {\n",
              "      display:flex;\n",
              "      flex-wrap:wrap;\n",
              "      gap: 12px;\n",
              "    }\n",
              "\n",
              "    .colab-df-convert {\n",
              "      background-color: #E8F0FE;\n",
              "      border: none;\n",
              "      border-radius: 50%;\n",
              "      cursor: pointer;\n",
              "      display: none;\n",
              "      fill: #1967D2;\n",
              "      height: 32px;\n",
              "      padding: 0 0 0 0;\n",
              "      width: 32px;\n",
              "    }\n",
              "\n",
              "    .colab-df-convert:hover {\n",
              "      background-color: #E2EBFA;\n",
              "      box-shadow: 0px 1px 2px rgba(60, 64, 67, 0.3), 0px 1px 3px 1px rgba(60, 64, 67, 0.15);\n",
              "      fill: #174EA6;\n",
              "    }\n",
              "\n",
              "    [theme=dark] .colab-df-convert {\n",
              "      background-color: #3B4455;\n",
              "      fill: #D2E3FC;\n",
              "    }\n",
              "\n",
              "    [theme=dark] .colab-df-convert:hover {\n",
              "      background-color: #434B5C;\n",
              "      box-shadow: 0px 1px 3px 1px rgba(0, 0, 0, 0.15);\n",
              "      filter: drop-shadow(0px 1px 2px rgba(0, 0, 0, 0.3));\n",
              "      fill: #FFFFFF;\n",
              "    }\n",
              "  </style>\n",
              "\n",
              "      <script>\n",
              "        const buttonEl =\n",
              "          document.querySelector('#df-47d83aeb-5907-4896-be78-7a1a12d523fc button.colab-df-convert');\n",
              "        buttonEl.style.display =\n",
              "          google.colab.kernel.accessAllowed ? 'block' : 'none';\n",
              "\n",
              "        async function convertToInteractive(key) {\n",
              "          const element = document.querySelector('#df-47d83aeb-5907-4896-be78-7a1a12d523fc');\n",
              "          const dataTable =\n",
              "            await google.colab.kernel.invokeFunction('convertToInteractive',\n",
              "                                                     [key], {});\n",
              "          if (!dataTable) return;\n",
              "\n",
              "          const docLinkHtml = 'Like what you see? Visit the ' +\n",
              "            '<a target=\"_blank\" href=https://colab.research.google.com/notebooks/data_table.ipynb>data table notebook</a>'\n",
              "            + ' to learn more about interactive tables.';\n",
              "          element.innerHTML = '';\n",
              "          dataTable['output_type'] = 'display_data';\n",
              "          await google.colab.output.renderOutput(dataTable, element);\n",
              "          const docLink = document.createElement('div');\n",
              "          docLink.innerHTML = docLinkHtml;\n",
              "          element.appendChild(docLink);\n",
              "        }\n",
              "      </script>\n",
              "    </div>\n",
              "  </div>\n",
              "  "
            ]
          },
          "metadata": {},
          "execution_count": 22
        }
      ]
    },
    {
      "cell_type": "markdown",
      "metadata": {
        "id": "m39AkPVVqBDy"
      },
      "source": [
        "## 4. <a name=\"4\">Features transformation</a>\n",
        "(<a href=\"#0\">Go to top</a>)"
      ]
    },
    {
      "cell_type": "markdown",
      "metadata": {
        "id": "Q0iZ2S2oqBDy"
      },
      "source": [
        "*What is the feature scaling technique that would use and why?* <br>\n",
        "*return to this section again and try another technique and see how that will impact your result*<br>\n",
        "for more details on different methods for scaling check these links\n",
        "- https://scikit-learn.org/stable/modules/preprocessing.html#preprocessing\n",
        "- https://scikit-learn.org/stable/modules/classes.html#module-sklearn.preprocessing\n",
        "- https://www.analyticsvidhya.com/blog/2020/07/types-of-feature-transformation-and-scaling/"
      ]
    },
    {
      "cell_type": "code",
      "execution_count": 19,
      "metadata": {
        "id": "NLTLOUfzqBDy"
      },
      "outputs": [],
      "source": [
        "from sklearn import preprocessing\n",
        "from sklearn.preprocessing import StandardScaler\n",
        "scaler=StandardScaler()\n"
      ]
    },
    {
      "cell_type": "code",
      "source": [
        "transformed_data = scaler.fit_transform(df_copy)"
      ],
      "metadata": {
        "id": "e6BWr4xPbRHj"
      },
      "execution_count": 24,
      "outputs": []
    },
    {
      "cell_type": "code",
      "source": [
        "transformed_data=pd.DataFrame(transformed_data,columns=df_copy.columns)\n",
        "transformed_data"
      ],
      "metadata": {
        "colab": {
          "base_uri": "https://localhost:8080/",
          "height": 661
        },
        "id": "hQ-DTEX-aNDz",
        "outputId": "28e7bdf3-5227-45ac-c01b-851d439a6a3c"
      },
      "execution_count": 25,
      "outputs": [
        {
          "output_type": "execute_result",
          "data": {
            "text/plain": [
              "     population      area   density  coastline     migration  \\\n",
              "0      0.019695  0.027583 -0.199844  -0.293443  4.750696e+00   \n",
              "1     -0.213877 -0.318797 -0.153603  -0.275974 -1.025201e+00   \n",
              "2      0.035618  0.998421 -0.220490  -0.292889 -8.834605e-02   \n",
              "3     -0.243834 -0.334779 -0.053514   0.514709 -4.281495e+00   \n",
              "4     -0.243720 -0.334629 -0.137002  -0.293443  1.354081e+00   \n",
              "..          ...       ...       ...        ...           ...   \n",
              "222   -0.223408 -0.331610  0.024662  -0.293443  6.070728e-01   \n",
              "223   -0.242004 -0.185982 -0.228217  -0.287620 -7.159403e-18   \n",
              "224   -0.061923 -0.039330 -0.204312  -0.288452 -7.867312e-03   \n",
              "225   -0.146545  0.086427 -0.219584  -0.293443 -7.867312e-03   \n",
              "226   -0.140298 -0.116242 -0.209926  -0.293443 -7.867312e-03   \n",
              "\n",
              "     infant_mortality           gdp      literacy    phones    arable  \\\n",
              "0            3.636688 -8.985536e-01 -2.481004e+00 -1.032796 -0.128695   \n",
              "1           -0.398754 -5.187348e-01  1.939599e-01 -0.731200  0.562986   \n",
              "2           -0.128489 -3.688063e-01 -6.800381e-01 -0.700597 -0.816517   \n",
              "3           -0.747988 -1.689017e-01  7.501404e-01  0.103956 -0.293124   \n",
              "4           -0.896805  9.305737e-01  9.090492e-01  1.158212 -0.893713   \n",
              "..                ...           ...           ...       ...       ...   \n",
              "222         -0.452921 -8.885583e-01  7.527430e-16 -0.402992  0.239532   \n",
              "223          0.000000  1.818122e-16  7.527430e-16  0.000000 -1.063546   \n",
              "224          0.741034 -8.885583e-01 -1.728836e+00 -0.881998 -0.850483   \n",
              "225          1.504789 -8.885583e-01 -1.185606e-01 -1.010620 -0.518538   \n",
              "226          0.917504 -7.786108e-01  4.164321e-01 -0.928125 -0.422814   \n",
              "\n",
              "        crops     other   climate  birthrate     deathrate  agriculture  \\\n",
              "0   -0.523020  0.374938 -1.717937   2.210300  2.249075e+00     1.619132   \n",
              "1   -0.017364 -0.445827  1.298569  -0.632321 -8.149012e-01     0.573417   \n",
              "2   -0.519408  0.928767 -1.717937  -0.449072 -9.385141e-01    -0.352182   \n",
              "3    1.256409 -0.414019 -0.209684   0.031168 -1.210057e+00     0.000000   \n",
              "4   -0.549507  1.006727  1.298569  -1.210053 -6.061780e-01     0.000000   \n",
              "..        ...       ...       ...        ...           ...          ...   \n",
              "222  1.734375 -1.091961  1.298569   0.862560 -1.078338e+00    -0.429904   \n",
              "223 -0.549507  1.143937 -1.717937   0.000000 -3.599679e-16     0.000000   \n",
              "224 -0.520612  0.956833 -1.717937   1.875396 -1.907579e-01    -0.111950   \n",
              "225 -0.545895  0.702371 -0.209684   1.704784  2.165991e+00     0.488629   \n",
              "226 -0.508573  0.605076 -0.209684   0.532169  2.553041e+00     0.198938   \n",
              "\n",
              "     industry       service  \n",
              "0   -0.321149 -1.158818e+00  \n",
              "1   -0.712145  8.579033e-02  \n",
              "2    2.385742 -1.671672e+00  \n",
              "3    0.000000 -6.943685e-16  \n",
              "4    0.000000 -6.943685e-16  \n",
              "..        ...           ...  \n",
              "222 -0.020384  4.047604e-01  \n",
              "223  0.000000 -1.033732e+00  \n",
              "224  1.423292 -1.077512e+00  \n",
              "225  0.054808 -4.770981e-01  \n",
              "226 -0.298592  8.579033e-02  \n",
              "\n",
              "[227 rows x 18 columns]"
            ],
            "text/html": [
              "\n",
              "  <div id=\"df-f11e0541-2c70-419d-b01e-1f371fc502b1\">\n",
              "    <div class=\"colab-df-container\">\n",
              "      <div>\n",
              "<style scoped>\n",
              "    .dataframe tbody tr th:only-of-type {\n",
              "        vertical-align: middle;\n",
              "    }\n",
              "\n",
              "    .dataframe tbody tr th {\n",
              "        vertical-align: top;\n",
              "    }\n",
              "\n",
              "    .dataframe thead th {\n",
              "        text-align: right;\n",
              "    }\n",
              "</style>\n",
              "<table border=\"1\" class=\"dataframe\">\n",
              "  <thead>\n",
              "    <tr style=\"text-align: right;\">\n",
              "      <th></th>\n",
              "      <th>population</th>\n",
              "      <th>area</th>\n",
              "      <th>density</th>\n",
              "      <th>coastline</th>\n",
              "      <th>migration</th>\n",
              "      <th>infant_mortality</th>\n",
              "      <th>gdp</th>\n",
              "      <th>literacy</th>\n",
              "      <th>phones</th>\n",
              "      <th>arable</th>\n",
              "      <th>crops</th>\n",
              "      <th>other</th>\n",
              "      <th>climate</th>\n",
              "      <th>birthrate</th>\n",
              "      <th>deathrate</th>\n",
              "      <th>agriculture</th>\n",
              "      <th>industry</th>\n",
              "      <th>service</th>\n",
              "    </tr>\n",
              "  </thead>\n",
              "  <tbody>\n",
              "    <tr>\n",
              "      <th>0</th>\n",
              "      <td>0.019695</td>\n",
              "      <td>0.027583</td>\n",
              "      <td>-0.199844</td>\n",
              "      <td>-0.293443</td>\n",
              "      <td>4.750696e+00</td>\n",
              "      <td>3.636688</td>\n",
              "      <td>-8.985536e-01</td>\n",
              "      <td>-2.481004e+00</td>\n",
              "      <td>-1.032796</td>\n",
              "      <td>-0.128695</td>\n",
              "      <td>-0.523020</td>\n",
              "      <td>0.374938</td>\n",
              "      <td>-1.717937</td>\n",
              "      <td>2.210300</td>\n",
              "      <td>2.249075e+00</td>\n",
              "      <td>1.619132</td>\n",
              "      <td>-0.321149</td>\n",
              "      <td>-1.158818e+00</td>\n",
              "    </tr>\n",
              "    <tr>\n",
              "      <th>1</th>\n",
              "      <td>-0.213877</td>\n",
              "      <td>-0.318797</td>\n",
              "      <td>-0.153603</td>\n",
              "      <td>-0.275974</td>\n",
              "      <td>-1.025201e+00</td>\n",
              "      <td>-0.398754</td>\n",
              "      <td>-5.187348e-01</td>\n",
              "      <td>1.939599e-01</td>\n",
              "      <td>-0.731200</td>\n",
              "      <td>0.562986</td>\n",
              "      <td>-0.017364</td>\n",
              "      <td>-0.445827</td>\n",
              "      <td>1.298569</td>\n",
              "      <td>-0.632321</td>\n",
              "      <td>-8.149012e-01</td>\n",
              "      <td>0.573417</td>\n",
              "      <td>-0.712145</td>\n",
              "      <td>8.579033e-02</td>\n",
              "    </tr>\n",
              "    <tr>\n",
              "      <th>2</th>\n",
              "      <td>0.035618</td>\n",
              "      <td>0.998421</td>\n",
              "      <td>-0.220490</td>\n",
              "      <td>-0.292889</td>\n",
              "      <td>-8.834605e-02</td>\n",
              "      <td>-0.128489</td>\n",
              "      <td>-3.688063e-01</td>\n",
              "      <td>-6.800381e-01</td>\n",
              "      <td>-0.700597</td>\n",
              "      <td>-0.816517</td>\n",
              "      <td>-0.519408</td>\n",
              "      <td>0.928767</td>\n",
              "      <td>-1.717937</td>\n",
              "      <td>-0.449072</td>\n",
              "      <td>-9.385141e-01</td>\n",
              "      <td>-0.352182</td>\n",
              "      <td>2.385742</td>\n",
              "      <td>-1.671672e+00</td>\n",
              "    </tr>\n",
              "    <tr>\n",
              "      <th>3</th>\n",
              "      <td>-0.243834</td>\n",
              "      <td>-0.334779</td>\n",
              "      <td>-0.053514</td>\n",
              "      <td>0.514709</td>\n",
              "      <td>-4.281495e+00</td>\n",
              "      <td>-0.747988</td>\n",
              "      <td>-1.689017e-01</td>\n",
              "      <td>7.501404e-01</td>\n",
              "      <td>0.103956</td>\n",
              "      <td>-0.293124</td>\n",
              "      <td>1.256409</td>\n",
              "      <td>-0.414019</td>\n",
              "      <td>-0.209684</td>\n",
              "      <td>0.031168</td>\n",
              "      <td>-1.210057e+00</td>\n",
              "      <td>0.000000</td>\n",
              "      <td>0.000000</td>\n",
              "      <td>-6.943685e-16</td>\n",
              "    </tr>\n",
              "    <tr>\n",
              "      <th>4</th>\n",
              "      <td>-0.243720</td>\n",
              "      <td>-0.334629</td>\n",
              "      <td>-0.137002</td>\n",
              "      <td>-0.293443</td>\n",
              "      <td>1.354081e+00</td>\n",
              "      <td>-0.896805</td>\n",
              "      <td>9.305737e-01</td>\n",
              "      <td>9.090492e-01</td>\n",
              "      <td>1.158212</td>\n",
              "      <td>-0.893713</td>\n",
              "      <td>-0.549507</td>\n",
              "      <td>1.006727</td>\n",
              "      <td>1.298569</td>\n",
              "      <td>-1.210053</td>\n",
              "      <td>-6.061780e-01</td>\n",
              "      <td>0.000000</td>\n",
              "      <td>0.000000</td>\n",
              "      <td>-6.943685e-16</td>\n",
              "    </tr>\n",
              "    <tr>\n",
              "      <th>...</th>\n",
              "      <td>...</td>\n",
              "      <td>...</td>\n",
              "      <td>...</td>\n",
              "      <td>...</td>\n",
              "      <td>...</td>\n",
              "      <td>...</td>\n",
              "      <td>...</td>\n",
              "      <td>...</td>\n",
              "      <td>...</td>\n",
              "      <td>...</td>\n",
              "      <td>...</td>\n",
              "      <td>...</td>\n",
              "      <td>...</td>\n",
              "      <td>...</td>\n",
              "      <td>...</td>\n",
              "      <td>...</td>\n",
              "      <td>...</td>\n",
              "      <td>...</td>\n",
              "    </tr>\n",
              "    <tr>\n",
              "      <th>222</th>\n",
              "      <td>-0.223408</td>\n",
              "      <td>-0.331610</td>\n",
              "      <td>0.024662</td>\n",
              "      <td>-0.293443</td>\n",
              "      <td>6.070728e-01</td>\n",
              "      <td>-0.452921</td>\n",
              "      <td>-8.885583e-01</td>\n",
              "      <td>7.527430e-16</td>\n",
              "      <td>-0.402992</td>\n",
              "      <td>0.239532</td>\n",
              "      <td>1.734375</td>\n",
              "      <td>-1.091961</td>\n",
              "      <td>1.298569</td>\n",
              "      <td>0.862560</td>\n",
              "      <td>-1.078338e+00</td>\n",
              "      <td>-0.429904</td>\n",
              "      <td>-0.020384</td>\n",
              "      <td>4.047604e-01</td>\n",
              "    </tr>\n",
              "    <tr>\n",
              "      <th>223</th>\n",
              "      <td>-0.242004</td>\n",
              "      <td>-0.185982</td>\n",
              "      <td>-0.228217</td>\n",
              "      <td>-0.287620</td>\n",
              "      <td>-7.159403e-18</td>\n",
              "      <td>0.000000</td>\n",
              "      <td>1.818122e-16</td>\n",
              "      <td>7.527430e-16</td>\n",
              "      <td>0.000000</td>\n",
              "      <td>-1.063546</td>\n",
              "      <td>-0.549507</td>\n",
              "      <td>1.143937</td>\n",
              "      <td>-1.717937</td>\n",
              "      <td>0.000000</td>\n",
              "      <td>-3.599679e-16</td>\n",
              "      <td>0.000000</td>\n",
              "      <td>0.000000</td>\n",
              "      <td>-1.033732e+00</td>\n",
              "    </tr>\n",
              "    <tr>\n",
              "      <th>224</th>\n",
              "      <td>-0.061923</td>\n",
              "      <td>-0.039330</td>\n",
              "      <td>-0.204312</td>\n",
              "      <td>-0.288452</td>\n",
              "      <td>-7.867312e-03</td>\n",
              "      <td>0.741034</td>\n",
              "      <td>-8.885583e-01</td>\n",
              "      <td>-1.728836e+00</td>\n",
              "      <td>-0.881998</td>\n",
              "      <td>-0.850483</td>\n",
              "      <td>-0.520612</td>\n",
              "      <td>0.956833</td>\n",
              "      <td>-1.717937</td>\n",
              "      <td>1.875396</td>\n",
              "      <td>-1.907579e-01</td>\n",
              "      <td>-0.111950</td>\n",
              "      <td>1.423292</td>\n",
              "      <td>-1.077512e+00</td>\n",
              "    </tr>\n",
              "    <tr>\n",
              "      <th>225</th>\n",
              "      <td>-0.146545</td>\n",
              "      <td>0.086427</td>\n",
              "      <td>-0.219584</td>\n",
              "      <td>-0.293443</td>\n",
              "      <td>-7.867312e-03</td>\n",
              "      <td>1.504789</td>\n",
              "      <td>-8.885583e-01</td>\n",
              "      <td>-1.185606e-01</td>\n",
              "      <td>-1.010620</td>\n",
              "      <td>-0.518538</td>\n",
              "      <td>-0.545895</td>\n",
              "      <td>0.702371</td>\n",
              "      <td>-0.209684</td>\n",
              "      <td>1.704784</td>\n",
              "      <td>2.165991e+00</td>\n",
              "      <td>0.488629</td>\n",
              "      <td>0.054808</td>\n",
              "      <td>-4.770981e-01</td>\n",
              "    </tr>\n",
              "    <tr>\n",
              "      <th>226</th>\n",
              "      <td>-0.140298</td>\n",
              "      <td>-0.116242</td>\n",
              "      <td>-0.209926</td>\n",
              "      <td>-0.293443</td>\n",
              "      <td>-7.867312e-03</td>\n",
              "      <td>0.917504</td>\n",
              "      <td>-7.786108e-01</td>\n",
              "      <td>4.164321e-01</td>\n",
              "      <td>-0.928125</td>\n",
              "      <td>-0.422814</td>\n",
              "      <td>-0.508573</td>\n",
              "      <td>0.605076</td>\n",
              "      <td>-0.209684</td>\n",
              "      <td>0.532169</td>\n",
              "      <td>2.553041e+00</td>\n",
              "      <td>0.198938</td>\n",
              "      <td>-0.298592</td>\n",
              "      <td>8.579033e-02</td>\n",
              "    </tr>\n",
              "  </tbody>\n",
              "</table>\n",
              "<p>227 rows × 18 columns</p>\n",
              "</div>\n",
              "      <button class=\"colab-df-convert\" onclick=\"convertToInteractive('df-f11e0541-2c70-419d-b01e-1f371fc502b1')\"\n",
              "              title=\"Convert this dataframe to an interactive table.\"\n",
              "              style=\"display:none;\">\n",
              "        \n",
              "  <svg xmlns=\"http://www.w3.org/2000/svg\" height=\"24px\"viewBox=\"0 0 24 24\"\n",
              "       width=\"24px\">\n",
              "    <path d=\"M0 0h24v24H0V0z\" fill=\"none\"/>\n",
              "    <path d=\"M18.56 5.44l.94 2.06.94-2.06 2.06-.94-2.06-.94-.94-2.06-.94 2.06-2.06.94zm-11 1L8.5 8.5l.94-2.06 2.06-.94-2.06-.94L8.5 2.5l-.94 2.06-2.06.94zm10 10l.94 2.06.94-2.06 2.06-.94-2.06-.94-.94-2.06-.94 2.06-2.06.94z\"/><path d=\"M17.41 7.96l-1.37-1.37c-.4-.4-.92-.59-1.43-.59-.52 0-1.04.2-1.43.59L10.3 9.45l-7.72 7.72c-.78.78-.78 2.05 0 2.83L4 21.41c.39.39.9.59 1.41.59.51 0 1.02-.2 1.41-.59l7.78-7.78 2.81-2.81c.8-.78.8-2.07 0-2.86zM5.41 20L4 18.59l7.72-7.72 1.47 1.35L5.41 20z\"/>\n",
              "  </svg>\n",
              "      </button>\n",
              "      \n",
              "  <style>\n",
              "    .colab-df-container {\n",
              "      display:flex;\n",
              "      flex-wrap:wrap;\n",
              "      gap: 12px;\n",
              "    }\n",
              "\n",
              "    .colab-df-convert {\n",
              "      background-color: #E8F0FE;\n",
              "      border: none;\n",
              "      border-radius: 50%;\n",
              "      cursor: pointer;\n",
              "      display: none;\n",
              "      fill: #1967D2;\n",
              "      height: 32px;\n",
              "      padding: 0 0 0 0;\n",
              "      width: 32px;\n",
              "    }\n",
              "\n",
              "    .colab-df-convert:hover {\n",
              "      background-color: #E2EBFA;\n",
              "      box-shadow: 0px 1px 2px rgba(60, 64, 67, 0.3), 0px 1px 3px 1px rgba(60, 64, 67, 0.15);\n",
              "      fill: #174EA6;\n",
              "    }\n",
              "\n",
              "    [theme=dark] .colab-df-convert {\n",
              "      background-color: #3B4455;\n",
              "      fill: #D2E3FC;\n",
              "    }\n",
              "\n",
              "    [theme=dark] .colab-df-convert:hover {\n",
              "      background-color: #434B5C;\n",
              "      box-shadow: 0px 1px 3px 1px rgba(0, 0, 0, 0.15);\n",
              "      filter: drop-shadow(0px 1px 2px rgba(0, 0, 0, 0.3));\n",
              "      fill: #FFFFFF;\n",
              "    }\n",
              "  </style>\n",
              "\n",
              "      <script>\n",
              "        const buttonEl =\n",
              "          document.querySelector('#df-f11e0541-2c70-419d-b01e-1f371fc502b1 button.colab-df-convert');\n",
              "        buttonEl.style.display =\n",
              "          google.colab.kernel.accessAllowed ? 'block' : 'none';\n",
              "\n",
              "        async function convertToInteractive(key) {\n",
              "          const element = document.querySelector('#df-f11e0541-2c70-419d-b01e-1f371fc502b1');\n",
              "          const dataTable =\n",
              "            await google.colab.kernel.invokeFunction('convertToInteractive',\n",
              "                                                     [key], {});\n",
              "          if (!dataTable) return;\n",
              "\n",
              "          const docLinkHtml = 'Like what you see? Visit the ' +\n",
              "            '<a target=\"_blank\" href=https://colab.research.google.com/notebooks/data_table.ipynb>data table notebook</a>'\n",
              "            + ' to learn more about interactive tables.';\n",
              "          element.innerHTML = '';\n",
              "          dataTable['output_type'] = 'display_data';\n",
              "          await google.colab.output.renderOutput(dataTable, element);\n",
              "          const docLink = document.createElement('div');\n",
              "          docLink.innerHTML = docLinkHtml;\n",
              "          element.appendChild(docLink);\n",
              "        }\n",
              "      </script>\n",
              "    </div>\n",
              "  </div>\n",
              "  "
            ]
          },
          "metadata": {},
          "execution_count": 25
        }
      ]
    },
    {
      "cell_type": "code",
      "execution_count": 26,
      "metadata": {
        "id": "sDLcKtPXqBDz",
        "colab": {
          "base_uri": "https://localhost:8080/",
          "height": 1000
        },
        "outputId": "401a3255-291e-4341-a152-db3915260ca2"
      },
      "outputs": [
        {
          "output_type": "display_data",
          "data": {
            "text/plain": [
              "<Figure size 432x288 with 1 Axes>"
            ],
            "image/png": "[encoded data removed]"
          },
          "metadata": {
            "needs_background": "light"
          }
        },
        {
          "output_type": "display_data",
          "data": {
            "text/plain": [
              "<Figure size 432x288 with 1 Axes>"
            ],
            "image/png": "[encoded data removed]"
          },
          "metadata": {
            "needs_background": "light"
          }
        },
        {
          "output_type": "display_data",
          "data": {
            "text/plain": [
              "<Figure size 432x288 with 1 Axes>"
            ],
            "image/png": "[encoded data removed]"
          },
          "metadata": {
            "needs_background": "light"
          }
        },
        {
          "output_type": "display_data",
          "data": {
            "text/plain": [
              "<Figure size 432x288 with 1 Axes>"
            ],
            "image/png": "[encoded data removed]"
          },
          "metadata": {
            "needs_background": "light"
          }
        },
        {
          "output_type": "display_data",
          "data": {
            "text/plain": [
              "<Figure size 432x288 with 1 Axes>"
            ],
            "image/png": "[encoded data removed]"
          },
          "metadata": {
            "needs_background": "light"
          }
        },
        {
          "output_type": "display_data",
          "data": {
            "text/plain": [
              "<Figure size 432x288 with 1 Axes>"
            ],
            "image/png": "[encoded data removed]"
          },
          "metadata": {
            "needs_background": "light"
          }
        },
        {
          "output_type": "display_data",
          "data": {
            "text/plain": [
              "<Figure size 432x288 with 1 Axes>"
            ],
            "image/png": "[encoded data removed]"
          },
          "metadata": {
            "needs_background": "light"
          }
        },
        {
          "output_type": "display_data",
          "data": {
            "text/plain": [
              "<Figure size 432x288 with 1 Axes>"
            ],
            "image/png": "[encoded data removed]"
          },
          "metadata": {
            "needs_background": "light"
          }
        },
        {
          "output_type": "display_data",
          "data": {
            "text/plain": [
              "<Figure size 432x288 with 1 Axes>"
            ],
            "image/png": "[encoded data removed]"
          },
          "metadata": {
            "needs_background": "light"
          }
        },
        {
          "output_type": "display_data",
          "data": {
            "text/plain": [
              "<Figure size 432x288 with 1 Axes>"
            ],
            "image/png": "[encoded data removed]"
          },
          "metadata": {
            "needs_background": "light"
          }
        },
        {
          "output_type": "display_data",
          "data": {
            "text/plain": [
              "<Figure size 432x288 with 1 Axes>"
            ],
            "image/png": "[encoded data removed]"
          },
          "metadata": {
            "needs_background": "light"
          }
        },
        {
          "output_type": "display_data",
          "data": {
            "text/plain": [
              "<Figure size 432x288 with 1 Axes>"
            ],
            "image/png": "[encoded data removed]"
          },
          "metadata": {
            "needs_background": "light"
          }
        },
        {
          "output_type": "display_data",
          "data": {
            "text/plain": [
              "<Figure size 432x288 with 1 Axes>"
            ],
            "image/png": "[encoded data removed]"
          },
          "metadata": {
            "needs_background": "light"
          }
        },
        {
          "output_type": "display_data",
          "data": {
            "text/plain": [
              "<Figure size 432x288 with 1 Axes>"
            ],
            "image/png": "[encoded data removed]"
          },
          "metadata": {
            "needs_background": "light"
          }
        },
        {
          "output_type": "display_data",
          "data": {
            "text/plain": [
              "<Figure size 432x288 with 1 Axes>"
            ],
            "image/png": "[encoded data removed]"
          },
          "metadata": {
            "needs_background": "light"
          }
        },
        {
          "output_type": "display_data",
          "data": {
            "text/plain": [
              "<Figure size 432x288 with 1 Axes>"
            ],
            "image/png": "[encoded data removed]"
          },
          "metadata": {
            "needs_background": "light"
          }
        },
        {
          "output_type": "display_data",
          "data": {
            "text/plain": [
              "<Figure size 432x288 with 1 Axes>"
            ],
            "image/png": "[encoded data removed]"
          },
          "metadata": {
            "needs_background": "light"
          }
        },
        {
          "output_type": "display_data",
          "data": {
            "text/plain": [
              "<Figure size 432x288 with 1 Axes>"
            ],
            "image/png": "[encoded data removed]"
          },
          "metadata": {
            "needs_background": "light"
          }
        }
      ],
      "source": [
        "import seaborn as sns\n",
        "for i in transformed_data.columns:\n",
        "    sns.distplot(transformed_data[i])\n",
        "    plt.show()"
      ]
    },
    {
      "cell_type": "markdown",
      "metadata": {
        "id": "udeeSrR_qBDz"
      },
      "source": [
        "## 5. <a name=\"5\">Training and hyperparamter tuning</a>\n",
        "(<a href=\"#0\">Go to top</a>)\n"
      ]
    },
    {
      "cell_type": "markdown",
      "metadata": {
        "id": "OKR4-DaeqBDz"
      },
      "source": [
        "Before we start the training process we need to specify 3 paramters:<br>\n",
        "1- Linkage criteria : The linkage criterion determines the distance between two clusters\n",
        "    - Complete-Linkage Clustering\n",
        "    - Single-Linkage Clustering\n",
        "    - Average-Linkage Clustering\n",
        "    - Centroid Linkage Clustering\n",
        "2- Distance function:\n",
        "    - Euclidean Distance \n",
        "    - Manhattan Distance \n",
        "    - Mahalanobis distance \n",
        "3- Number of clusters\n"
      ]
    },
    {
      "cell_type": "markdown",
      "metadata": {
        "id": "udjysNXPqBDz"
      },
      "source": [
        "### *Number of clusters*\n",
        "Use Dendograms to specify the optimum number of clusters\n",
        "- Compare how changing linkage criteria or distance function would affect the optimum number of clusters\n",
        "- you can use silhouette_score or any other evalution method to help you determine the optimum number of clusters\n",
        "https://scikit-learn.org/stable/modules/generated/sklearn.metrics.silhouette_score.html"
      ]
    },
    {
      "cell_type": "code",
      "execution_count": 27,
      "metadata": {
        "id": "0AbG1PX3qBD0",
        "colab": {
          "base_uri": "https://localhost:8080/",
          "height": 444
        },
        "outputId": "bc1f640b-e280-4ded-a41b-088e8f281c73"
      },
      "outputs": [
        {
          "output_type": "display_data",
          "data": {
            "text/plain": [
              "<Figure size 720x504 with 1 Axes>"
            ],
            "image/png": "[encoded data removed]"
          },
          "metadata": {
            "needs_background": "light"
          }
        }
      ],
      "source": [
        "import scipy.cluster.hierarchy as shc\n",
        "from scipy.cluster.hierarchy import dendrogram, linkage\n",
        "from sklearn.cluster import AgglomerativeClustering\n",
        "\n",
        "plt.figure(figsize=(10, 7))\n",
        "plt.title(\"Counters Dendograms\")\n",
        "dend = shc.dendrogram(shc.linkage(y=transformed_data , method='single',metric='euclidean'),orientation='right')\n",
        "\n",
        "plt.show()\n",
        "\n",
        "#fill y with your dataframe\n",
        "#and method with linkage criteria\n",
        "#and metric with distance function                                                                                    #and method with linkage criteria\n",
        "                                                                                      #and metric with distance function"
      ]
    },
    {
      "cell_type": "code",
      "source": [
        "plt.figure(figsize=(10, 7))\n",
        "plt.title(\"Counters Dendograms\")\n",
        "dend = shc.dendrogram(shc.linkage(y=transformed_data , method='complete',metric='euclidean'),orientation='right')\n",
        "\n",
        "plt.show()"
      ],
      "metadata": {
        "colab": {
          "base_uri": "https://localhost:8080/",
          "height": 444
        },
        "id": "lSIDkJAObttX",
        "outputId": "5f5a15da-7dc2-4b76-a61e-cfd1c2eb85e6"
      },
      "execution_count": 28,
      "outputs": [
        {
          "output_type": "display_data",
          "data": {
            "text/plain": [
              "<Figure size 720x504 with 1 Axes>"
            ],
            "image/png": "[encoded data removed]"
          },
          "metadata": {
            "needs_background": "light"
          }
        }
      ]
    },
    {
      "cell_type": "code",
      "source": [
        "plt.figure(figsize=(10, 7))\n",
        "plt.title(\"Counters Dendograms\")\n",
        "dend = shc.dendrogram(shc.linkage(y=transformed_data , method='average',metric='euclidean'),orientation='right')\n",
        "\n",
        "plt.show()"
      ],
      "metadata": {
        "colab": {
          "base_uri": "https://localhost:8080/",
          "height": 444
        },
        "id": "mBq-K7I9bzCy",
        "outputId": "1028a343-07bf-4113-89b0-099bb0c85222"
      },
      "execution_count": 29,
      "outputs": [
        {
          "output_type": "display_data",
          "data": {
            "text/plain": [
              "<Figure size 720x504 with 1 Axes>"
            ],
            "image/png": "[encoded data removed]"
          },
          "metadata": {
            "needs_background": "light"
          }
        }
      ]
    },
    {
      "cell_type": "code",
      "source": [
        "plt.figure(figsize=(10, 7))\n",
        "plt.title(\"Counters Dendograms\")\n",
        "dend = shc.dendrogram(shc.linkage(y=transformed_data , method='centroid',metric='euclidean'),orientation='right')\n",
        "\n",
        "plt.show()"
      ],
      "metadata": {
        "colab": {
          "base_uri": "https://localhost:8080/",
          "height": 444
        },
        "id": "Uay0HRoNb2Xr",
        "outputId": "4038b174-ccba-48cf-daaf-956fe0e5b88f"
      },
      "execution_count": 30,
      "outputs": [
        {
          "output_type": "display_data",
          "data": {
            "text/plain": [
              "<Figure size 720x504 with 1 Axes>"
            ],
            "image/png": "[encoded data removed]"
          },
          "metadata": {
            "needs_background": "light"
          }
        }
      ]
    },
    {
      "cell_type": "code",
      "execution_count": 31,
      "metadata": {
        "id": "g3i8tlyJqBD0",
        "colab": {
          "base_uri": "https://localhost:8080/"
        },
        "outputId": "ac618b99-7c61-4ff7-feaa-f0473d61d2cb"
      },
      "outputs": [
        {
          "output_type": "execute_result",
          "data": {
            "text/plain": [
              "array([0, 0, 0, 0, 0, 0, 0, 0, 0, 0, 0, 0, 0, 0, 0, 0, 0, 0, 0, 0, 0, 0,\n",
              "       0, 0, 0, 0, 0, 0, 0, 0, 0, 0, 0, 0, 0, 0, 0, 0, 0, 0, 0, 0, 2, 0,\n",
              "       0, 0, 0, 0, 0, 0, 0, 0, 0, 0, 0, 0, 0, 0, 0, 0, 0, 0, 0, 0, 0, 0,\n",
              "       0, 0, 0, 0, 0, 0, 0, 0, 0, 0, 0, 0, 0, 0, 0, 0, 0, 0, 0, 0, 0, 0,\n",
              "       0, 0, 0, 0, 0, 0, 3, 0, 0, 0, 0, 0, 0, 0, 0, 0, 0, 0, 0, 0, 0, 0,\n",
              "       0, 0, 0, 0, 0, 0, 0, 0, 0, 0, 0, 0, 0, 0, 0, 0, 0, 0, 0, 0, 0, 0,\n",
              "       0, 0, 0, 0, 1, 0, 0, 0, 0, 0, 0, 0, 0, 0, 0, 0, 0, 0, 0, 0, 0, 0,\n",
              "       0, 0, 0, 0, 0, 0, 0, 0, 0, 0, 0, 0, 0, 0, 0, 0, 0, 0, 0, 0, 0, 0,\n",
              "       0, 0, 0, 0, 0, 0, 0, 0, 0, 0, 0, 0, 0, 0, 0, 0, 0, 0, 0, 0, 0, 0,\n",
              "       0, 0, 0, 0, 0, 0, 0, 0, 0, 0, 0, 0, 0, 0, 0, 0, 0, 0, 0, 0, 0, 0,\n",
              "       0, 0, 0, 0, 0, 0, 0])"
            ]
          },
          "metadata": {},
          "execution_count": 31
        }
      ],
      "source": [
        "#training\n",
        "from sklearn.cluster import AgglomerativeClustering\n",
        "from sklearn.metrics import silhouette_score\n",
        "\n",
        "clu=AgglomerativeClustering(affinity='euclidean',n_clusters=4,linkage='single').fit(transformed_data)\n",
        "clu.labels_\n",
        "\n",
        "\n"
      ]
    },
    {
      "cell_type": "code",
      "source": [
        "silhouette_score(transformed_data, labels=clu.labels_, metric='euclidean', sample_size=None, random_state=None)"
      ],
      "metadata": {
        "colab": {
          "base_uri": "https://localhost:8080/"
        },
        "id": "qDSloC-ocA4C",
        "outputId": "1872c1dc-4877-4aaf-c25b-b18ecd1193f7"
      },
      "execution_count": 32,
      "outputs": [
        {
          "output_type": "execute_result",
          "data": {
            "text/plain": [
              "0.5066102601211425"
            ]
          },
          "metadata": {},
          "execution_count": 32
        }
      ]
    },
    {
      "cell_type": "code",
      "source": [
        "from sklearn.cluster import AgglomerativeClustering\n",
        "from sklearn.metrics import silhouette_score\n",
        "\n",
        "clu=AgglomerativeClustering(affinity='euclidean',n_clusters=4,linkage='complete').fit(transformed_data)\n",
        "clu.labels_"
      ],
      "metadata": {
        "colab": {
          "base_uri": "https://localhost:8080/"
        },
        "id": "vGZbrQ2rcJFY",
        "outputId": "0da4d322-5132-43eb-ade6-575b857da786"
      },
      "execution_count": 33,
      "outputs": [
        {
          "output_type": "execute_result",
          "data": {
            "text/plain": [
              "array([2, 2, 2, 2, 2, 2, 2, 2, 2, 2, 2, 0, 2, 2, 2, 2, 2, 2, 2, 2, 2, 2,\n",
              "       2, 2, 2, 2, 2, 0, 2, 2, 2, 2, 2, 2, 2, 2, 0, 2, 2, 2, 2, 2, 0, 2,\n",
              "       2, 2, 2, 2, 2, 2, 2, 2, 2, 2, 2, 2, 2, 2, 2, 2, 2, 2, 2, 2, 2, 2,\n",
              "       2, 2, 2, 2, 2, 2, 2, 2, 2, 2, 2, 2, 2, 2, 2, 2, 2, 2, 2, 2, 2, 2,\n",
              "       2, 2, 2, 2, 2, 2, 0, 2, 2, 2, 2, 2, 2, 2, 2, 2, 2, 2, 2, 2, 2, 2,\n",
              "       2, 2, 2, 2, 2, 2, 2, 2, 2, 2, 2, 2, 1, 2, 2, 2, 2, 2, 2, 2, 2, 2,\n",
              "       2, 2, 2, 2, 3, 2, 1, 2, 2, 2, 2, 2, 2, 2, 2, 2, 2, 2, 2, 2, 2, 2,\n",
              "       2, 2, 2, 2, 2, 2, 2, 2, 2, 2, 2, 2, 2, 2, 2, 0, 2, 2, 2, 2, 2, 2,\n",
              "       2, 2, 2, 2, 2, 2, 2, 2, 2, 2, 2, 2, 2, 2, 2, 2, 2, 2, 2, 2, 2, 2,\n",
              "       2, 2, 2, 2, 2, 2, 2, 2, 2, 2, 2, 2, 2, 2, 2, 2, 0, 2, 2, 2, 2, 2,\n",
              "       2, 2, 2, 2, 2, 2, 2])"
            ]
          },
          "metadata": {},
          "execution_count": 33
        }
      ]
    },
    {
      "cell_type": "code",
      "source": [
        "silhouette_score(transformed_data, labels=clu.labels_, metric='euclidean', sample_size=None, random_state=None)"
      ],
      "metadata": {
        "colab": {
          "base_uri": "https://localhost:8080/"
        },
        "id": "12GxI2gRcQTO",
        "outputId": "690f9074-93d8-4b36-8d1c-1b7442d43f95"
      },
      "execution_count": 34,
      "outputs": [
        {
          "output_type": "execute_result",
          "data": {
            "text/plain": [
              "0.42219980706313287"
            ]
          },
          "metadata": {},
          "execution_count": 34
        }
      ]
    },
    {
      "cell_type": "code",
      "source": [
        "from sklearn.cluster import AgglomerativeClustering\n",
        "from sklearn.metrics import silhouette_score\n",
        "\n",
        "clu=AgglomerativeClustering(affinity='euclidean',n_clusters=4,linkage='average').fit(transformed_data)\n",
        "clu.labels_"
      ],
      "metadata": {
        "colab": {
          "base_uri": "https://localhost:8080/"
        },
        "id": "QpD60AxWcRN-",
        "outputId": "26963b4b-0655-4c09-d4a0-e194904bb1e7"
      },
      "execution_count": 35,
      "outputs": [
        {
          "output_type": "execute_result",
          "data": {
            "text/plain": [
              "array([0, 0, 0, 0, 0, 0, 0, 0, 0, 0, 0, 0, 0, 0, 0, 0, 0, 0, 0, 0, 0, 0,\n",
              "       0, 0, 0, 0, 0, 0, 0, 0, 0, 0, 0, 0, 0, 0, 0, 0, 0, 0, 0, 0, 2, 0,\n",
              "       0, 0, 0, 0, 0, 0, 0, 0, 0, 0, 0, 0, 0, 0, 0, 0, 0, 0, 0, 0, 0, 0,\n",
              "       0, 0, 0, 0, 0, 0, 0, 0, 0, 0, 0, 0, 0, 0, 0, 0, 0, 0, 0, 0, 0, 0,\n",
              "       0, 0, 0, 0, 0, 0, 2, 0, 0, 0, 0, 0, 0, 0, 0, 0, 0, 0, 0, 0, 0, 0,\n",
              "       0, 0, 0, 0, 0, 0, 0, 0, 0, 0, 0, 0, 1, 0, 0, 0, 0, 0, 0, 0, 0, 0,\n",
              "       0, 0, 0, 0, 3, 0, 1, 0, 0, 0, 0, 0, 0, 0, 0, 0, 0, 0, 0, 0, 0, 0,\n",
              "       0, 0, 0, 0, 0, 0, 0, 0, 0, 0, 0, 0, 0, 0, 0, 0, 0, 0, 0, 0, 0, 0,\n",
              "       0, 0, 0, 0, 0, 0, 0, 0, 0, 0, 0, 0, 0, 0, 0, 0, 0, 0, 0, 0, 0, 0,\n",
              "       0, 0, 0, 0, 0, 0, 0, 0, 0, 0, 0, 0, 0, 0, 0, 0, 0, 0, 0, 0, 0, 0,\n",
              "       0, 0, 0, 0, 0, 0, 0])"
            ]
          },
          "metadata": {},
          "execution_count": 35
        }
      ]
    },
    {
      "cell_type": "code",
      "source": [
        "silhouette_score(transformed_data, labels=clu.labels_, metric='euclidean', sample_size=None, random_state=None)"
      ],
      "metadata": {
        "colab": {
          "base_uri": "https://localhost:8080/"
        },
        "id": "LURUT7EhcRTp",
        "outputId": "874e2368-66e9-44cb-9724-f889cef8c6d5"
      },
      "execution_count": 36,
      "outputs": [
        {
          "output_type": "execute_result",
          "data": {
            "text/plain": [
              "0.5315233936412725"
            ]
          },
          "metadata": {},
          "execution_count": 36
        }
      ]
    },
    {
      "cell_type": "code",
      "source": [
        "from sklearn.cluster import AgglomerativeClustering\n",
        "from sklearn.metrics import silhouette_score\n",
        "\n",
        "clu=AgglomerativeClustering(affinity='euclidean',n_clusters=3,linkage='ward').fit(transformed_data)\n",
        "clu.labels_"
      ],
      "metadata": {
        "colab": {
          "base_uri": "https://localhost:8080/"
        },
        "id": "7QR3BVXEcXjd",
        "outputId": "aa8f56c9-0a93-4a2c-e211-2c941fb036a8"
      },
      "execution_count": 37,
      "outputs": [
        {
          "output_type": "execute_result",
          "data": {
            "text/plain": [
              "array([1, 2, 2, 2, 0, 1, 2, 2, 2, 2, 0, 0, 0, 1, 2, 2, 1, 0, 2, 0, 2, 1,\n",
              "       0, 1, 2, 2, 1, 0, 0, 2, 2, 1, 1, 1, 1, 1, 0, 2, 0, 1, 1, 2, 0, 2,\n",
              "       1, 1, 1, 2, 2, 1, 2, 2, 0, 2, 0, 1, 2, 2, 1, 2, 2, 2, 1, 1, 2, 1,\n",
              "       0, 2, 0, 0, 2, 2, 1, 1, 2, 2, 0, 1, 0, 0, 2, 2, 2, 2, 1, 0, 1, 1,\n",
              "       2, 1, 1, 0, 2, 0, 0, 2, 2, 2, 0, 0, 0, 0, 2, 0, 0, 2, 2, 1, 2, 2,\n",
              "       0, 2, 2, 1, 2, 2, 1, 1, 2, 0, 2, 0, 0, 2, 1, 1, 2, 2, 1, 0, 2, 2,\n",
              "       1, 2, 1, 2, 2, 2, 0, 2, 2, 1, 1, 1, 2, 1, 0, 2, 2, 0, 1, 1, 1, 2,\n",
              "       0, 2, 1, 2, 2, 1, 2, 2, 2, 2, 0, 0, 2, 2, 2, 0, 1, 2, 2, 2, 2, 2,\n",
              "       2, 0, 2, 2, 1, 2, 2, 1, 0, 2, 0, 2, 1, 1, 0, 2, 1, 2, 1, 0, 0, 1,\n",
              "       0, 1, 1, 2, 1, 2, 2, 2, 2, 1, 2, 2, 1, 2, 2, 0, 0, 2, 1, 1, 2, 2,\n",
              "       2, 2, 2, 2, 1, 1, 1])"
            ]
          },
          "metadata": {},
          "execution_count": 37
        }
      ]
    },
    {
      "cell_type": "code",
      "source": [
        "silhouette_score(transformed_data, labels=clu.labels_, metric='euclidean', sample_size=None, random_state=None)"
      ],
      "metadata": {
        "colab": {
          "base_uri": "https://localhost:8080/"
        },
        "id": "Lo5sOq4Nca3k",
        "outputId": "33051ae7-ba4c-4e45-b045-b7a50e54e684"
      },
      "execution_count": 38,
      "outputs": [
        {
          "output_type": "execute_result",
          "data": {
            "text/plain": [
              "0.16269887673394806"
            ]
          },
          "metadata": {},
          "execution_count": 38
        }
      ]
    },
    {
      "cell_type": "code",
      "source": [
        "silhouette=[]\n",
        "for i in range(2,11):\n",
        "    clustering = AgglomerativeClustering(linkage='single',affinity='euclidean',n_clusters=i).fit(transformed_data)\n",
        "    clustering\n",
        "    clustering.labels_\n",
        "    score=silhouette_score(transformed_data, labels=clustering.labels_, metric='euclidean')\n",
        "    silhouette.append(score)"
      ],
      "metadata": {
        "id": "k5wZRYshca5S"
      },
      "execution_count": 94,
      "outputs": []
    },
    {
      "cell_type": "code",
      "source": [
        "silhouette"
      ],
      "metadata": {
        "colab": {
          "base_uri": "https://localhost:8080/"
        },
        "id": "7Ryi00Qmckoq",
        "outputId": "626e83b2-370b-41cc-d99f-283859e18b38"
      },
      "execution_count": 95,
      "outputs": [
        {
          "output_type": "execute_result",
          "data": {
            "text/plain": [
              "[0.38807875221756544,\n",
              " 0.27162837254211025,\n",
              " 0.25021885520785553,\n",
              " 0.21702473502401762,\n",
              " 0.20125265586117588,\n",
              " 0.13012849831170162,\n",
              " 0.11766014318825053,\n",
              " 0.09844048940223307,\n",
              " 0.043159291547104864]"
            ]
          },
          "metadata": {},
          "execution_count": 95
        }
      ]
    },
    {
      "cell_type": "code",
      "source": [
        "silhouette=[]\n",
        "for i in range(2,11):\n",
        "    clustering = AgglomerativeClustering(linkage='complete',affinity='euclidean',n_clusters=i).fit(transformed_data)\n",
        "    clustering\n",
        "    clustering.labels_\n",
        "    score=silhouette_score(transformed_data, labels=clustering.labels_, metric='euclidean')\n",
        "    silhouette.append(score)"
      ],
      "metadata": {
        "id": "T95I6Otpck0Y"
      },
      "execution_count": 88,
      "outputs": []
    },
    {
      "cell_type": "code",
      "source": [
        "silhouette"
      ],
      "metadata": {
        "colab": {
          "base_uri": "https://localhost:8080/"
        },
        "id": "VZs-suVmck94",
        "outputId": "904fe438-4316-43f5-865b-66ae16a45b44"
      },
      "execution_count": 89,
      "outputs": [
        {
          "output_type": "execute_result",
          "data": {
            "text/plain": [
              "[0.13382059674101338,\n",
              " 0.1484870109983905,\n",
              " 0.14624936965939353,\n",
              " 0.14488871384151908,\n",
              " 0.15235114561770055,\n",
              " 0.13487645770561393,\n",
              " 0.13405125419180333,\n",
              " 0.12235559278219997,\n",
              " 0.1251679686773861]"
            ]
          },
          "metadata": {},
          "execution_count": 89
        }
      ]
    },
    {
      "cell_type": "code",
      "source": [
        "silhouette=[]\n",
        "for i in range(2,11):\n",
        "    clustering = AgglomerativeClustering(linkage='average',affinity='euclidean',n_clusters=i).fit(transformed_data)\n",
        "    clustering\n",
        "    clustering.labels_\n",
        "    score=silhouette_score(transformed_data, labels=clustering.labels_, metric='euclidean')\n",
        "    silhouette.append(score)"
      ],
      "metadata": {
        "id": "m1cj3ValdEvM"
      },
      "execution_count": 90,
      "outputs": []
    },
    {
      "cell_type": "code",
      "source": [
        "silhouette"
      ],
      "metadata": {
        "colab": {
          "base_uri": "https://localhost:8080/"
        },
        "id": "_Fe4G5w3dEww",
        "outputId": "40d85532-c00b-4a3f-fca7-71ddf8113265"
      },
      "execution_count": 91,
      "outputs": [
        {
          "output_type": "execute_result",
          "data": {
            "text/plain": [
              "[0.33172568299894345,\n",
              " 0.26433977099433925,\n",
              " 0.24218427024618422,\n",
              " 0.26302074090118793,\n",
              " 0.25078348040691434,\n",
              " 0.21309269996352243,\n",
              " 0.18402047098743818,\n",
              " 0.17546892765832128,\n",
              " 0.09939516344974046]"
            ]
          },
          "metadata": {},
          "execution_count": 91
        }
      ]
    },
    {
      "cell_type": "code",
      "source": [
        "silhouette=[]\n",
        "for i in range(2,11):\n",
        "    clustering = AgglomerativeClustering(linkage='ward',affinity='euclidean',n_clusters=i).fit(transformed_data)\n",
        "    clustering\n",
        "    clustering.labels_\n",
        "    score=silhouette_score(transformed_data, labels=clustering.labels_, metric='euclidean')\n",
        "    silhouette.append(score)"
      ],
      "metadata": {
        "id": "zk-P0__6dN8Q"
      },
      "execution_count": 92,
      "outputs": []
    },
    {
      "cell_type": "code",
      "source": [
        "silhouette"
      ],
      "metadata": {
        "colab": {
          "base_uri": "https://localhost:8080/"
        },
        "id": "mQeOh1cQdN96",
        "outputId": "9ddd1ad8-4d8b-4500-cb5f-d083c416b12f"
      },
      "execution_count": 93,
      "outputs": [
        {
          "output_type": "execute_result",
          "data": {
            "text/plain": [
              "[0.240258128185492,\n",
              " 0.18211678790216873,\n",
              " 0.17321940550503712,\n",
              " 0.1634606304729342,\n",
              " 0.16614296293374675,\n",
              " 0.146356178612194,\n",
              " 0.13513632178008908,\n",
              " 0.1377586379167695,\n",
              " 0.14675613544468344]"
            ]
          },
          "metadata": {},
          "execution_count": 93
        }
      ]
    },
    {
      "cell_type": "markdown",
      "metadata": {
        "id": "P_SedlVlqBD1"
      },
      "source": [
        "## 6. <a name=\"6\">improvement ideas</a>\n",
        "(<a href=\"#0\">Go to top</a>)"
      ]
    },
    {
      "cell_type": "markdown",
      "metadata": {
        "id": "MXqZsczCqBD1"
      },
      "source": [
        "- Try to use PCA to reduce the number of features and compare how this will affect the clustring process\n",
        "- Try to run your code again but with different tranformation technique\n",
        "- Implement gap statistics method and use it as evaluation metric and compare the result with what you did before https://www.datanovia.com/en/lessons/determining-the-optimal-number-of-clusters-3-must-know-methods/#gap-statistic-method "
      ]
    },
    {
      "cell_type": "code",
      "source": [
        "from sklearn.decomposition import PCA\n",
        "  \n",
        "pca = PCA(n_components = 10)\n",
        "  \n",
        "data = pca.fit_transform(transformed_data)\n",
        "\n",
        "  \n",
        "explained_variance = pca.explained_variance_ratio_\n",
        "\n",
        "plt.hist(data)"
      ],
      "metadata": {
        "colab": {
          "base_uri": "https://localhost:8080/",
          "height": 508
        },
        "id": "hCFO4PHxdVbl",
        "outputId": "50627c14-fdc5-48f3-ae1e-19d8c31c015d"
      },
      "execution_count": 47,
      "outputs": [
        {
          "output_type": "execute_result",
          "data": {
            "text/plain": [
              "(array([[  0.,   7.,  34.,  50.,  59.,  31.,  31.,  10.,   5.,   0.],\n",
              "        [  0.,   0.,   9.,  76.,  83.,  40.,  13.,   5.,   1.,   0.],\n",
              "        [  1.,   2.,   3.,  47., 125.,  43.,   3.,   1.,   1.,   1.],\n",
              "        [  0.,   0.,   5.,  62., 100.,  53.,   6.,   1.,   0.,   0.],\n",
              "        [  0.,   0.,   1.,  39., 157.,  20.,   6.,   2.,   1.,   1.],\n",
              "        [  0.,   0.,   0.,  45., 150.,  26.,   4.,   1.,   0.,   1.],\n",
              "        [  0.,   0.,   3.,  35., 150.,  36.,   2.,   1.,   0.,   0.],\n",
              "        [  0.,   0.,   3.,  25., 178.,  19.,   1.,   1.,   0.,   0.],\n",
              "        [  0.,   0.,   1.,  34., 162.,  28.,   2.,   0.,   0.,   0.],\n",
              "        [  0.,   0.,   2.,  19., 190.,  14.,   1.,   1.,   0.,   0.]]),\n",
              " array([-6.80821448, -5.29257865, -3.77694283, -2.261307  , -0.74567117,\n",
              "         0.76996466,  2.28560049,  3.80123632,  5.31687215,  6.83250798,\n",
              "         8.3481438 ]),\n",
              " <a list of 10 BarContainer objects>)"
            ]
          },
          "metadata": {},
          "execution_count": 47
        },
        {
          "output_type": "display_data",
          "data": {
            "text/plain": [
              "<Figure size 432x288 with 1 Axes>"
            ],
            "image/png": "[encoded data removed]"
          },
          "metadata": {
            "needs_background": "light"
          }
        }
      ]
    },
    {
      "cell_type": "code",
      "source": [
        "plt.plot(data)"
      ],
      "metadata": {
        "colab": {
          "base_uri": "https://localhost:8080/",
          "height": 439
        },
        "id": "J02YhnxUdWj8",
        "outputId": "011746ba-52c0-4966-ea8e-228aeceabec2"
      },
      "execution_count": 48,
      "outputs": [
        {
          "output_type": "execute_result",
          "data": {
            "text/plain": [
              "[<matplotlib.lines.Line2D at 0x7f53890c7820>,\n",
              " <matplotlib.lines.Line2D at 0x7f53890c79a0>,\n",
              " <matplotlib.lines.Line2D at 0x7f53890c7550>,\n",
              " <matplotlib.lines.Line2D at 0x7f53890c7af0>,\n",
              " <matplotlib.lines.Line2D at 0x7f53890c7b50>,\n",
              " <matplotlib.lines.Line2D at 0x7f53890c75e0>,\n",
              " <matplotlib.lines.Line2D at 0x7f5389103940>,\n",
              " <matplotlib.lines.Line2D at 0x7f53891038b0>,\n",
              " <matplotlib.lines.Line2D at 0x7f53890c7400>,\n",
              " <matplotlib.lines.Line2D at 0x7f538926ffd0>]"
            ]
          },
          "metadata": {},
          "execution_count": 48
        },
        {
          "output_type": "display_data",
          "data": {
            "text/plain": [
              "<Figure size 432x288 with 1 Axes>"
            ],
            "image/png": "[encoded data removed]"
          },
          "metadata": {
            "needs_background": "light"
          }
        }
      ]
    },
    {
      "cell_type": "code",
      "source": [
        "silhouette=[]\n",
        "for i in range(2,11):\n",
        "    clustering = AgglomerativeClustering(linkage='average',affinity='euclidean',n_clusters=i).fit(transformed_data)\n",
        "    clustering\n",
        "    clustering.labels_\n",
        "    score=silhouette_score(data, labels=clustering.labels_, metric='euclidean')\n",
        "    silhouette.append(score)"
      ],
      "metadata": {
        "id": "axs0J-oXdWuo"
      },
      "execution_count": 49,
      "outputs": []
    },
    {
      "cell_type": "code",
      "source": [
        "silhouette"
      ],
      "metadata": {
        "colab": {
          "base_uri": "https://localhost:8080/"
        },
        "id": "4LEb6e3ddpDa",
        "outputId": "fd61493b-9d19-4c86-ca25-f4d3985808dc"
      },
      "execution_count": 50,
      "outputs": [
        {
          "output_type": "execute_result",
          "data": {
            "text/plain": [
              "[0.6376260362091976,\n",
              " 0.552534515844574,\n",
              " 0.5418574312093392,\n",
              " 0.3832834132616581,\n",
              " 0.28596693533651824,\n",
              " 0.22467545860802962,\n",
              " 0.22139941343050487,\n",
              " 0.16164045059449714,\n",
              " 0.21026567145890204]"
            ]
          },
          "metadata": {},
          "execution_count": 50
        }
      ]
    },
    {
      "cell_type": "code",
      "source": [
        "silhouette=[]\n",
        "for i in range(2,11):\n",
        "    clustering = AgglomerativeClustering(linkage='single',affinity='euclidean',n_clusters=i).fit(transformed_data)\n",
        "    clustering\n",
        "    clustering.labels_\n",
        "    score=silhouette_score(data, labels=clustering.labels_, metric='euclidean')\n",
        "    silhouette.append(score)\n",
        "silhouette"
      ],
      "metadata": {
        "colab": {
          "base_uri": "https://localhost:8080/"
        },
        "id": "5fQB2Ao-dpHT",
        "outputId": "e460c992-8162-46e7-e88a-561854aa2383"
      },
      "execution_count": 51,
      "outputs": [
        {
          "output_type": "execute_result",
          "data": {
            "text/plain": [
              "[0.6376260362091976,\n",
              " 0.552534515844574,\n",
              " 0.5043955623386196,\n",
              " 0.5036849677995852,\n",
              " 0.4577139947979292,\n",
              " 0.36047701997248166,\n",
              " 0.35388446650195887,\n",
              " 0.1791433065020953,\n",
              " 0.1887727527804936]"
            ]
          },
          "metadata": {},
          "execution_count": 51
        }
      ]
    },
    {
      "cell_type": "code",
      "source": [
        "silhouette=[]\n",
        "for i in range(2,11):\n",
        "    clustering = AgglomerativeClustering(linkage='complete',affinity='euclidean',n_clusters=i).fit(transformed_data)\n",
        "    clustering\n",
        "    clustering.labels_\n",
        "    score=silhouette_score(data, labels=clustering.labels_, metric='euclidean')\n",
        "    silhouette.append(score)\n",
        "silhouette"
      ],
      "metadata": {
        "colab": {
          "base_uri": "https://localhost:8080/"
        },
        "id": "orH7lJ6SdpLq",
        "outputId": "6d8f1f22-f553-4afa-8a1c-8c320ac5b566"
      },
      "execution_count": 52,
      "outputs": [
        {
          "output_type": "execute_result",
          "data": {
            "text/plain": [
              "[0.6376260362091976,\n",
              " 0.41623766356336817,\n",
              " 0.4251695478053253,\n",
              " 0.3446508708806007,\n",
              " 0.24438350469546077,\n",
              " 0.1714364169050297,\n",
              " 0.16848158053058804,\n",
              " 0.14296927289795505,\n",
              " 0.12906835281147488]"
            ]
          },
          "metadata": {},
          "execution_count": 52
        }
      ]
    },
    {
      "cell_type": "code",
      "source": [
        "silhouette=[]\n",
        "for i in range(2,11):\n",
        "    clustering = AgglomerativeClustering(linkage='ward',affinity='euclidean',n_clusters=i).fit(transformed_data)\n",
        "    clustering\n",
        "    clustering.labels_\n",
        "    score=silhouette_score(data, labels=clustering.labels_, metric='euclidean')\n",
        "    silhouette.append(score)\n",
        "silhouette"
      ],
      "metadata": {
        "colab": {
          "base_uri": "https://localhost:8080/"
        },
        "id": "8v5klBlAdpNe",
        "outputId": "bdac5a2c-0be1-4d3e-edd7-23f139bbc33d"
      },
      "execution_count": 53,
      "outputs": [
        {
          "output_type": "execute_result",
          "data": {
            "text/plain": [
              "[0.23535092313476574,\n",
              " 0.18092974968847886,\n",
              " 0.1823954110298325,\n",
              " 0.17014093980391104,\n",
              " 0.17611800768873315,\n",
              " 0.18066234395675376,\n",
              " 0.18875104559987632,\n",
              " 0.19018979438512454,\n",
              " 0.16835357242437157]"
            ]
          },
          "metadata": {},
          "execution_count": 53
        }
      ]
    }
  ],
  "metadata": {
    "kernelspec": {
      "display_name": "Python 3",
      "language": "python",
      "name": "python3"
    },
    "language_info": {
      "codemirror_mode": {
        "name": "ipython",
        "version": 3
      },
      "file_extension": ".py",
      "mimetype": "text/x-python",
      "name": "python",
      "nbconvert_exporter": "python",
      "pygments_lexer": "ipython3",
      "version": "3.7.6"
    },
    "colab": {
      "provenance": [],
      "include_colab_link": true
    }
  },
  "nbformat": 4,
  "nbformat_minor": 0
}